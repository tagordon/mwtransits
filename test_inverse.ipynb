{
 "cells": [
  {
   "cell_type": "code",
   "execution_count": 39,
   "metadata": {},
   "outputs": [],
   "source": [
    "import numpy as np\n",
    "import exoplanet as xo\n",
    "import matplotlib.pyplot as pl\n",
    "import utils\n",
    "import itertools\n",
    "import theano\n",
    "from theano import tensor as tt\n",
    "\n",
    "red = '#FE4365'\n",
    "blue = '#00A9FF'\n",
    "yellow = '#ECA25C'\n",
    "green = '#3F9778'\n",
    "darkblue = '#005D7F'\n",
    "\n",
    "pl.rc('xtick', labelsize=20)\n",
    "pl.rc('ytick', labelsize=20)\n",
    "pl.rc('axes', labelsize=25)\n",
    "pl.rc('axes', titlesize=30)\n",
    "pl.rc('legend', fontsize=20)\n",
    "pl.rc('lines', linewidth=4)"
   ]
  },
  {
   "cell_type": "code",
   "execution_count": 209,
   "metadata": {},
   "outputs": [],
   "source": [
    "def apply_inverse(kernel, diag, t, x):\n",
    "    m = kernel.Q.shape.eval()[0]\n",
    "    diag = diag * np.ones((m, len(t)))\n",
    "    gp = xo.gp.GP(kernel=kernel, diag=diag, x=t, J=2*m)\n",
    "    return gp.apply_inverse_vector(x).eval()\n",
    "\n",
    "def apply_inverse_direct(kernel, diag, t, x):\n",
    "    m = kernel.Q.shape.eval()[0]\n",
    "    ar, cr, ac, bc, cc, dc = kernel.get_coefficients()\n",
    "    ar, cr, ac, bc, cc, dc = ar.eval(), cr.eval(), ac.eval(), bc.eval(), cc.eval(), dc.eval()\n",
    "    def K(tau):\n",
    "        realterms = np.sum([a*np.exp(-c*tau) + \n",
    "                            b*np.exp(-c*tau) \n",
    "                            for (a, c) in zip(ar, cr)])\n",
    "        compterms = np.sum([a*np.exp(-c*tau)*np.cos(d*tau) + \n",
    "                            b*np.exp(-c*tau)*np.sin(d*tau) \n",
    "                            for (a, b, c, d) in zip(ac, bc, cc, dc)])\n",
    "        return realterms + compterms\n",
    "    covariance = np.zeros((len(t), len(t)))\n",
    "    for i, ti in enumerate(t):\n",
    "        for j, tj in enumerate(t):\n",
    "            tau = np.abs(ti - tj)\n",
    "            covariance[i, j] = K(tau)\n",
    "    covariance = np.kron(covariance, kernel.Q.eval())\n",
    "    covariance = np.diag(diag*np.ones(m*len(t))) + covariance\n",
    "    return np.linalg.inv(covariance).dot(x)\n",
    "\n",
    "def fullfisher_direct(t, tparams, gpparams, a=[1]):\n",
    "    a = np.array(a)\n",
    "    log_s, log_w0, log_q, diag = gpparams\n",
    "    Q = a[:, None]*a[None, :]\n",
    "    \n",
    "    # define the gp \n",
    "    term = xo.gp.terms.SHOTerm(log_S0=log_s, log_w0=log_w0, log_Q=log_q)\n",
    "    kernel = xo.gp.terms.KroneckerTerm(term, Q)\n",
    "    \n",
    "    # compute the trapezoidal transit derivatives\n",
    "    dtrans = utils.transit(t, *tparams)\n",
    "        \n",
    "    # compute the Fisher matrix \n",
    "    fish = np.zeros((4, 4))\n",
    "    for (i, j) in itertools.product([0, 1, 2, 3], [0, 1, 2, 3]):\n",
    "        x = np.array(dtrans[i+1])\n",
    "        y = np.array(dtrans[j+1])\n",
    "        x = np.tile(x, (np.shape(Q)[0], 1)).T.reshape(1, np.shape(Q)[0]*len(x)).T\n",
    "        y = np.tile(y, (np.shape(Q)[0], 1)).T.reshape(1, np.shape(Q)[0]*len(y)).T\n",
    "        fish[i, j] = x.T.dot(apply_inverse_direct(kernel, diag, t, y))\n",
    "        \n",
    "    # return the fisher matrix and the gp for debugging \n",
    "    return fish\n",
    "\n",
    "def fisher_direct(t, tparams, gpparams, a=[1]):\n",
    "    fish = fullfisher_direct(t, tparams, gpparams, a=a)\n",
    "    return np.sqrt(np.diag(np.linalg.inv(fish)))"
   ]
  },
  {
   "cell_type": "code",
   "execution_count": 403,
   "metadata": {},
   "outputs": [],
   "source": [
    "# alpha_N / alpha_1 \n",
    "x = np.linspace(1, 10, 10)\n",
    "\n",
    "# variance of the white noise \n",
    "diag = np.exp(0)\n",
    "\n",
    "# variance of the correlated component \n",
    "alpha = np.exp(1)\n",
    "\n",
    "# smallest and largest wavelength scale factors \n",
    "alpha1 = 1 / (1 + x)\n",
    "alpha2 = 1 / (1 + 1/x)\n",
    "\n",
    "# compute alpha vectors \n",
    "a = np.array([alpha1, alpha2]).T\n",
    "a3 = [np.linspace(a1, a2, 3) for (a1, a2) in zip(alpha1, alpha2)]\n",
    "a4 = [np.linspace(a1, a2, 4) for (a1, a2) in zip(alpha1, alpha2)]\n",
    "a5 = [np.linspace(a1, a2, 5) for (a1, a2) in zip(alpha1, alpha2)]\n",
    "\n",
    "#a = [a/np.sqrt(np.sum(a ** 2)) for a in a]\n",
    "#a3 = [a/np.sqrt(np.sum(a ** 2)) for a in a3]\n",
    "#a4 = [a/np.sqrt(np.sum(a ** 2)) for a in a4]\n",
    "#a5 = [a/np.sqrt(np.sum(a ** 2)) for a in a5]\n",
    "\n",
    "# parameters of the transit and correlated noise \n",
    "t = np.linspace(-3, 3, 100)\n",
    "tparams = [0.0, 0.1, 1.0, 0.1]  # t0, r, d, tin\n",
    "logw0 = 5.0\n",
    "logq = -np.log(np.sqrt(2))"
   ]
  },
  {
   "cell_type": "code",
   "execution_count": null,
   "metadata": {},
   "outputs": [],
   "source": [
    "#fish1 = [fisher_white_noise_only(t, tparams, diag) for a in a]\n",
    "fish2 = [fisher_direct(t, tparams, [np.log(alpha), logw0, logq, diag*2], a=a)[0] for a in a]\n",
    "fish3 = [fisher_direct(t, tparams, [np.log(alpha), logw0, logq, diag*3], a=a)[0] for a in a3]\n",
    "fish4 = [fisher_direct(t, tparams, [np.log(alpha), logw0, logq, diag*4], a=a)[0] for a in a4]\n",
    "fish5 = [fisher_direct(t, tparams, [np.log(alpha), logw0, logq, diag*5], a=a)[0] for a in a5]"
   ]
  },
  {
   "cell_type": "code",
   "execution_count": null,
   "metadata": {},
   "outputs": [],
   "source": [
    "pl.figure(figsize=(10, 7))\n",
    "pl.semilogy(x, np.array(fish2), '-', color=red, label=\"2 bands\")\n",
    "pl.semilogy(x, np.array(fish3), '-', color=blue, label=\"3 bands\")\n",
    "pl.semilogy(x, np.array(fish4), '-', color=green, label=\"4 bands\")\n",
    "pl.semilogy(x, np.array(fish5), '-', color=yellow, label=\"5 bands\")\n",
    "pl.legend()\n",
    "pl.savefig(\"/Users/tgordon/Desktop/direct.pdf\")"
   ]
  },
  {
   "cell_type": "code",
   "execution_count": 64,
   "metadata": {},
   "outputs": [],
   "source": [
    "def sig_poly(N, sigma, alpha):\n",
    "    gamma = alpha / sigma\n",
    "    gamma2 = gamma ** 2\n",
    "    num = 1 + np.sum(gamma2)\n",
    "    denom1 = N * ( 1 + np.sum(gamma2))\n",
    "    denom2 = np.sum(gamma) ** 2\n",
    "    return num / (denom1 + denom2)\n",
    "\n",
    "def sig_mono(N, sigma, alpha):\n",
    "    gamma = alpha / sigma\n",
    "    return ( 1 / N ) + (np.sum(gamma) / N) ** 2"
   ]
  },
  {
   "cell_type": "code",
   "execution_count": 145,
   "metadata": {},
   "outputs": [],
   "source": [
    "def c29_over_c30(logsig, logs0):\n",
    "    N = np.array([2, 10])\n",
    "    sigma = np.exp(logsig)\n",
    "    S0 = np.exp(logs0)\n",
    "    alpha1 = 1\n",
    "    alpha2 = 2\n",
    "    alphan = np.array([np.linspace(alpha1, alpha2, n) for n in N])\n",
    "    r = [sig_poly(n, sigma, S0*alphan) / sig_mono(n, sigma, alpha) for (n, alphan) in zip(N, alphan)]\n",
    "    return r[1] - r[0]"
   ]
  },
  {
   "cell_type": "code",
   "execution_count": 375,
   "metadata": {},
   "outputs": [],
   "source": [
    "lsig = np.linspace(-10, 10, 50)\n",
    "ls0 = np.linspace(-10, 10, 50)\n",
    "c29c30 = np.zeros((len(lsig), len(ls0)))\n",
    "for (i, ls) in enumerate(lsig):\n",
    "    for (j, l0) in enumerate(ls0):\n",
    "        #print(ls, l0)\n",
    "        c29c30[len(lsig) - 1 - i, j] = c29_over_c30(ls, l0)"
   ]
  },
  {
   "cell_type": "code",
   "execution_count": 399,
   "metadata": {},
   "outputs": [
    {
     "data": {
      "image/png": "[encoded data removed]",
      "text/plain": [
       "<Figure size 720x720 with 1 Axes>"
      ]
     },
     "metadata": {},
     "output_type": "display_data"
    }
   ],
   "source": [
    "fig = pl.figure(figsize=(10, 10))\n",
    "pl.contour(np.sign(c29c30), origin='upper', extent=(ls0[0], ls0[-1], lsig[0], lsig[-1]), colors='k')\n",
    "pl.imshow(c29c30, origin='upper', extent=(ls0[0], ls0[-1], lsig[0], lsig[-1]))\n",
    "pl.xlabel(r\"$\\log(S0)$\")\n",
    "pl.ylabel(r\"$\\log(\\sigma^2)$\")\n",
    "pl.annotate(\"Uncertainty \\ndecreases with N\", xy=(0.4, 0.9), xycoords='axes fraction', fontsize=20)\n",
    "pl.annotate(\"Uncertainty \\nincreases with N\", xy=(0.1, 0.1), xycoords='axes fraction', fontsize=20)\n",
    "pl.savefig('/Users/tgordon/Desktop/huh.pdf')"
   ]
  }
 ],
 "metadata": {
  "kernelspec": {
   "display_name": "Python 3",
   "language": "python",
   "name": "python3"
  },
  "language_info": {
   "codemirror_mode": {
    "name": "ipython",
    "version": 3
   },
   "file_extension": ".py",
   "mimetype": "text/x-python",
   "name": "python",
   "nbconvert_exporter": "python",
   "pygments_lexer": "ipython3",
   "version": "3.7.6"
  }
 },
 "nbformat": 4,
 "nbformat_minor": 2
}
