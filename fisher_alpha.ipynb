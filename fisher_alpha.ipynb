{
 "cells": [
  {
   "cell_type": "code",
   "execution_count": 221,
   "metadata": {},
   "outputs": [],
   "source": [
    "import numpy as np\n",
    "import exoplanet as xo\n",
    "import matplotlib.pyplot as pl\n",
    "import utils\n",
    "import itertools\n",
    "import theano\n",
    "from theano import tensor as tt\n",
    "\n",
    "red = '#FE4365'\n",
    "blue = '#00A9FF'\n",
    "yellow = '#ECA25C'\n",
    "green = '#3F9778'\n",
    "darkblue = '#005D7F'\n",
    "\n",
    "pl.rc('xtick', labelsize=20)\n",
    "pl.rc('ytick', labelsize=20)\n",
    "pl.rc('axes', labelsize=25)\n",
    "pl.rc('axes', titlesize=30)\n",
    "pl.rc('legend', fontsize=20)\n",
    "pl.rc('lines', linewidth=4)\n",
    "\n",
    "# function to compute the un-inverted Fisher information matrix \n",
    "def fullfisher(t, tparams, gpparams, a=[1]):\n",
    "    a = np.array(a)\n",
    "    log_s, log_w0, log_q, diag = gpparams\n",
    "    Q = a[:, None]*a[None, :]\n",
    "    \n",
    "    # define the gp \n",
    "    term = xo.gp.terms.SHOTerm(log_S0=log_s, log_w0=log_w0, log_Q=log_q)\n",
    "    kernel = xo.gp.terms.KroneckerTerm(term, Q)\n",
    "    diag = diag * np.ones((len(a), len(t)))\n",
    "    gp = xo.gp.GP(kernel=kernel, diag=diag, x=t, J=2*len(a))\n",
    "    \n",
    "    # compute the trapezoidal transit derivatives\n",
    "    dtrans = utils.transit(t, *tparams)\n",
    "    x = tt.dmatrix()\n",
    "    y = tt.dmatrix()\n",
    "    \n",
    "    # define a theano function to compute the inner product of the pairs of \n",
    "    # derivatives with the inverse covariance matrix \n",
    "    f = theano.function([x, y], [x.T.dot(gp.apply_inverse_vector(y))])\n",
    "    \n",
    "    # compute the Fisher matrix \n",
    "    fish = np.zeros((4, 4))\n",
    "    for (i, j) in itertools.product([0, 1, 2, 3], [0, 1, 2, 3]):\n",
    "        x = np.array(dtrans[i+1])\n",
    "        y = np.array(dtrans[j+1])\n",
    "        x = np.tile(x, (np.shape(Q)[0], 1)).T.reshape(1, np.shape(Q)[0]*len(x)).T\n",
    "        y = np.tile(y, (np.shape(Q)[0], 1)).T.reshape(1, np.shape(Q)[0]*len(y)).T\n",
    "        fish[i, j] = f(x, y)[0][0, 0]\n",
    "        \n",
    "    # return the fisher matrix and the gp for debugging \n",
    "    return fish, gp\n",
    "\n",
    "# function to unpack the individual uncertainties\n",
    "def fisher(t, tparams, gpparams, a=[1]):\n",
    "    fish, gp = fullfisher(t, tparams, gpparams, a=a)\n",
    "    return np.sqrt(np.diag(np.linalg.inv(fish))), gp\n",
    "\n",
    "# function to compute the fisher information when there \n",
    "# is no correlated component to the variability \n",
    "def fisher_white_noise_only(t, tparams, diag):\n",
    "    dtrans = utils.transit(t, *tparams)\n",
    "    fish = np.zeros((4, 4))\n",
    "    for (i, j) in itertools.product([0, 1, 2, 3], [0, 1, 2, 3]):\n",
    "        x = np.array(dtrans[i+1])\n",
    "        y = np.array(dtrans[j+1])\n",
    "        fish[i, j] = (1/diag)*x.T.dot(y)\n",
    "    return np.sqrt(np.diag(np.linalg.inv(fish)))"
   ]
  },
  {
   "cell_type": "code",
   "execution_count": 217,
   "metadata": {},
   "outputs": [],
   "source": [
    "# alpha_N / alpha_1 \n",
    "x = np.linspace(1, 10, 10)\n",
    "\n",
    "# variance of the white noise \n",
    "diag = np.exp(-20)\n",
    "\n",
    "# sqrt(variance) of the correlated component \n",
    "alpha = np.exp(-10)\n",
    "\n",
    "# smallest and largest wavelength scale factors \n",
    "alpha1 = 2 / (1 + x)\n",
    "alpha2 = 2 / (1 + 1/x)\n",
    "\n",
    "# compute alpha vectors \n",
    "a = np.array([alpha1, alpha2]).T\n",
    "a3 = [np.linspace(a1, a2, 3) for (a1, a2) in zip(alpha1, alpha2)]\n",
    "a4 = [np.linspace(a1, a2, 4) for (a1, a2) in zip(alpha1, alpha2)]\n",
    "a5 = [np.linspace(a1, a2, 5) for (a1, a2) in zip(alpha1, alpha2)]\n",
    "\n",
    "# parameters of the transit and correlated noise \n",
    "t = np.linspace(-5, 5, 5000)\n",
    "tparams = [0.0, 0.1, 1.0, 0.01]  # t0, r, d, tin\n",
    "logw0 = 5.0\n",
    "logq = -np.log(np.sqrt(2))"
   ]
  },
  {
   "cell_type": "code",
   "execution_count": 204,
   "metadata": {},
   "outputs": [],
   "source": [
    "# for visualizing the samples \n",
    "\n",
    "#fish2, gp2 = fisher(t, tparams, [np.log(alpha), logw0, logq, diag*2], a=a[5])\n",
    "#fish3, gp3 = fisher(t, tparams, [np.log(alpha), logw0, logq, diag*3], a=a3[5])\n",
    "#fish4, gp4 = fisher(t, tparams, [np.log(alpha), logw0, logq, diag*4], a=a4[5])\n",
    "#fish5, gp5 = fisher(t, tparams, [np.log(alpha), logw0, logq, diag*5], a=a5[5])"
   ]
  },
  {
   "cell_type": "code",
   "execution_count": 205,
   "metadata": {},
   "outputs": [],
   "source": [
    "# for visualizing the samples \n",
    "\n",
    "#y2 = gp2.dot_l(np.random.randn(2*len(t), 1)).eval()\n",
    "#y3 = gp3.dot_l(np.random.randn(3*len(t), 1)).eval()\n",
    "#y4 = gp4.dot_l(np.random.randn(4*len(t), 1)).eval()\n",
    "#y5 = gp5.dot_l(np.random.randn(5*len(t), 1)).eval()"
   ]
  },
  {
   "cell_type": "code",
   "execution_count": 187,
   "metadata": {},
   "outputs": [],
   "source": [
    "# for visualizing the samples \n",
    "\n",
    "#y2 = np.sum([y2[i::2].T[0] for i in range(2)], axis=0)/2\n",
    "#y3 = np.sum([y3[i::3].T[0] for i in range(3)], axis=0)/3\n",
    "#y4 = np.sum([y4[i::4].T[0] for i in range(4)], axis=0)/4\n",
    "#y5 = np.sum([y5[i::5].T[0] for i in range(5)], axis=0)/5"
   ]
  },
  {
   "cell_type": "code",
   "execution_count": 222,
   "metadata": {},
   "outputs": [],
   "source": [
    "# for visualizing the samples \n",
    "\n",
    "#pl.figure(figsize=(20, 5))\n",
    "#pl.plot(t, y2[1::2], '.')\n",
    "#pl.plot(t, y2[::2], '.')\n",
    "#pl.plot(t + 10, y3[2::3], '.')\n",
    "#pl.plot(t + 10, y3[1::3], '.')\n",
    "#pl.plot(t + 10, y3[::3], '.')\n",
    "#pl.plot(t + 20, y4[3::4], '.')\n",
    "#pl.plot(t + 20, y4[2::4], '.')\n",
    "#pl.plot(t + 20, y4[1::4], '.')\n",
    "#pl.plot(t + 20, y4[::4], '.')\n",
    "#pl.plot(t + 30, y5[4::5], '.')\n",
    "#pl.plot(t + 30, y5[3::5], '.')\n",
    "#pl.plot(t + 30, y5[2::5], '.')\n",
    "#pl.plot(t + 30, y5[1::5], '.')\n",
    "#pl.plot(t + 30, y5[::5], '.')"
   ]
  },
  {
   "cell_type": "code",
   "execution_count": 218,
   "metadata": {},
   "outputs": [],
   "source": [
    "# compute the fisher information as a function of x \n",
    "\n",
    "fish1 = [fisher_white_noise_only(t, tparams, diag) for a in a]\n",
    "fish2 = [fisher(t, tparams, [np.log(alpha), logw0, logq, diag*2], a=a)[0] for a in a]\n",
    "fish3 = [fisher(t, tparams, [np.log(alpha), logw0, logq, diag*3], a=a)[0] for a in a3]\n",
    "fish4 = [fisher(t, tparams, [np.log(alpha), logw0, logq, diag*4], a=a)[0] for a in a4]\n",
    "fish5 = [fisher(t, tparams, [np.log(alpha), logw0, logq, diag*5], a=a)[0] for a in a5]"
   ]
  },
  {
   "cell_type": "code",
   "execution_count": 223,
   "metadata": {},
   "outputs": [
    {
     "data": {
      "text/plain": [
       "Text(0,0.5,'1-$\\\\sigma$ uncertainty for $R_p/R_*$')"
      ]
     },
     "execution_count": 223,
     "metadata": {},
     "output_type": "execute_result"
    },
    {
     "data": {
      "image/png": "[encoded data removed]",
      "text/plain": [
       "<Figure size 720x504 with 1 Axes>"
      ]
     },
     "metadata": {},
     "output_type": "display_data"
    }
   ],
   "source": [
    "# plot the fisher information as a function of x \n",
    "\n",
    "figure = pl.figure(figsize=(10, 7))\n",
    "pl.semilogy(x, np.sqrt(2)*np.array(fish1)[:, 1], '--', color='k', label=r\"$\\sqrt{2}\\sigma$\")\n",
    "pl.semilogy(x, np.array(fish2)[:, 1], '-', color=red, label=\"2 bands\")\n",
    "pl.semilogy(x, np.array(fish3)[:, 1], '-', color=blue, label=\"3 bands\")\n",
    "pl.semilogy(x, np.array(fish4)[:, 1], '-', color=green, label=\"4 bands\")\n",
    "pl.semilogy(x, np.array(fish5)[:, 1], '-', color=yellow, label=\"5 bands\")\n",
    "\n",
    "pl.legend()\n",
    "#pl.ylim(0, 1)\n",
    "pl.xlabel(r\"$\\alpha_N/\\alpha_1$\")\n",
    "pl.ylabel(r\"1-$\\sigma$ uncertainty for $R_p/R_*$\")"
   ]
  },
  {
   "cell_type": "code",
   "execution_count": null,
   "metadata": {},
   "outputs": [],
   "source": []
  },
  {
   "cell_type": "code",
   "execution_count": null,
   "metadata": {},
   "outputs": [],
   "source": []
  }
 ],
 "metadata": {
  "kernelspec": {
   "display_name": "Python 3",
   "language": "python",
   "name": "python3"
  },
  "language_info": {
   "codemirror_mode": {
    "name": "ipython",
    "version": 3
   },
   "file_extension": ".py",
   "mimetype": "text/x-python",
   "name": "python",
   "nbconvert_exporter": "python",
   "pygments_lexer": "ipython3",
   "version": "3.7.6"
  }
 },
 "nbformat": 4,
 "nbformat_minor": 2
}
