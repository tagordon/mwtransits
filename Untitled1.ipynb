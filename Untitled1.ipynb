{
 "cells": [
  {
   "cell_type": "code",
   "execution_count": 94,
   "metadata": {},
   "outputs": [
    {
     "data": {
      "text/plain": [
       "[<matplotlib.lines.Line2D at 0x11f18cfd0>]"
      ]
     },
     "execution_count": 94,
     "metadata": {},
     "output_type": "execute_result"
    },
    {
     "data": {
      "image/png": "[encoded data removed]",
      "text/plain": [
       "<Figure size 432x288 with 1 Axes>"
      ]
     },
     "metadata": {},
     "output_type": "display_data"
    }
   ],
   "source": [
    "import pymc3 as pm\n",
    "import theano.tensor as tt\n",
    "from exoplanet.gp import terms, GP\n",
    "import numpy as np\n",
    "import utils\n",
    "import exoplanet as xo\n",
    "import matplotlib.pyplot as pl\n",
    "%matplotlib inline\n",
    "\n",
    "logsig_init = -10\n",
    "logS0_init = -10\n",
    "logQ_init = np.log(1/np.sqrt(2))\n",
    "logw0_init = 0.0\n",
    "t0_init = 5.0\n",
    "r_init = 0.1\n",
    "d_init = 1.0\n",
    "tin_init = 0.05\n",
    "t = np.linspace(0, 10, 1000)\n",
    "\n",
    "transit = utils.theano_transit(t, t0_init, r_init, d_init, tin_init).eval()\n",
    "kernel = xo.gp.terms.SHOTerm(\n",
    "    log_S0 = logS0_init,\n",
    "    log_w0 = logw0_init,\n",
    "    log_Q=logQ_init\n",
    ")\n",
    "J = 4\n",
    "    \n",
    "q = np.array([1, 2])\n",
    "Q = q[:, None]*q[None, :]\n",
    "diag = [np.exp(2*logsig_init)*np.ones(len(t)) for i in q]\n",
    "gp = GP(kernel, t, diag, J=J, Q=Q)\n",
    "n = gp.dot_l(np.random.randn(2*len(t), 1)).eval()\n",
    "#arr = np.array([1, 2, 3])\n",
    "transit = tt.as_tensor_variable(transit)\n",
    "transit = tt.reshape(tt.tile(transit, (2, 1)).T, (1, 2*transit.shape[0])).T\n",
    "n += transit.eval()\n",
    "y = [n[i::2].T[0] for i in range(len(q))]\n",
    "pl.plot(t, y[0])\n",
    "pl.plot(t, y[1])\n",
    "#n = y[1]\n",
    "#n = np.ascontiguousarray(n)"
   ]
  },
  {
   "cell_type": "code",
   "execution_count": 95,
   "metadata": {},
   "outputs": [
    {
     "data": {
      "text/plain": [
       "array(17572.3717007)"
      ]
     },
     "execution_count": 95,
     "metadata": {},
     "output_type": "execute_result"
    }
   ],
   "source": [
    "gp.log_likelihood((n - transit).T).eval()"
   ]
  },
  {
   "cell_type": "code",
   "execution_count": 101,
   "metadata": {},
   "outputs": [
    {
     "name": "stderr",
     "output_type": "stream",
     "text": [
      "/Users/tgordon/Library/Python/3.7/lib/python/site-packages/theano/tensor/basic.py:6611: FutureWarning: Using a non-tuple sequence for multidimensional indexing is deprecated; use `arr[tuple(seq)]` instead of `arr[seq]`. In the future this will be interpreted as an array index, `arr[np.array(seq)]`, which will result either in an error or a different result.\n",
      "  result[diagonal_slice] = x\n",
      "/Users/tgordon/Library/Python/3.7/lib/python/site-packages/theano/tensor/basic.py:6611: FutureWarning: Using a non-tuple sequence for multidimensional indexing is deprecated; use `arr[tuple(seq)]` instead of `arr[seq]`. In the future this will be interpreted as an array index, `arr[np.array(seq)]`, which will result either in an error or a different result.\n",
      "  result[diagonal_slice] = x\n",
      "/Users/tgordon/Library/Python/3.7/lib/python/site-packages/theano/tensor/basic.py:6611: FutureWarning: Using a non-tuple sequence for multidimensional indexing is deprecated; use `arr[tuple(seq)]` instead of `arr[seq]`. In the future this will be interpreted as an array index, `arr[np.array(seq)]`, which will result either in an error or a different result.\n",
      "  result[diagonal_slice] = x\n",
      "/Users/tgordon/Library/Python/3.7/lib/python/site-packages/theano/tensor/basic.py:6611: FutureWarning: Using a non-tuple sequence for multidimensional indexing is deprecated; use `arr[tuple(seq)]` instead of `arr[seq]`. In the future this will be interpreted as an array index, `arr[np.array(seq)]`, which will result either in an error or a different result.\n",
      "  result[diagonal_slice] = x\n"
     ]
    }
   ],
   "source": [
    "with pm.Model() as model:\n",
    "    sig = pm.Normal(\"sig\", mu=2*logsig_init, sd=5.0, testval=logsig_init)\n",
    "\n",
    "    # The parameters of the SHOTerm kernel\n",
    "    logS0 = pm.Normal(\"logS0\", mu=logS0_init, sd=5.0, testval=logS0_init)\n",
    "    logQ = pm.Normal(\"logQ\", mu=logQ_init, sd=5.0, testval=logQ_init)\n",
    "    logw0 = pm.Normal(\"logw0\", mu=logw0_init, sd=5.0, testval=logw0_init)\n",
    "    \n",
    "    # multi-wavelength parameters\n",
    "    #BoundedNormal = pm.Bound(pm.Normal, lower=1.0, upper=10.0)\n",
    "    a = BoundedNormal(\"a\", mu=2.0, sd=5.0, testval=2.0)\n",
    "    \n",
    "    # The parameters for the transit mean function\n",
    "    t0 = pm.Normal(\"t0\", mu=t0_init, sd=5.0, testval=t0_init)\n",
    "    BoundedNormal = pm.Bound(pm.Normal, lower=0.0, upper=1.0)\n",
    "    r = BoundedNormal(\"r\", mu=r_init, sd=1.0, testval=r_init)\n",
    "    BoundedNormal = pm.Bound(pm.Normal, lower=0.0, upper=10.0)\n",
    "    d = BoundedNormal(\"d\", mu=d_init, sd=5.0, testval=d_init)\n",
    "    tin = BoundedNormal(\"tin\", mu=tin_init, sd=5.0, testval=tin_init)\n",
    "            \n",
    "    # Deterministics\n",
    "    # mean = pm.Deterministic(\"mean\", utils.transit(t, t0, r, d, tin))\n",
    "    transit = utils.theano_transit(t, t0, r, d, tin)\n",
    "    transit = tt.reshape(tt.tile(transit, (2, 1)).T, (1, 2*transit.shape[0])).T\n",
    "\n",
    "    # Set up the Gaussian Process model\n",
    "    kernel = xo.gp.terms.SHOTerm(\n",
    "        log_S0 = logS0,\n",
    "        log_w0 = logw0,\n",
    "        log_Q=logQ\n",
    "    )\n",
    "    \n",
    "    q = tt.stack(1, a)\n",
    "    Q = q[:, None]*q[None, :]\n",
    "    diag = np.exp(2*sig)*tt.ones((2, len(t)))\n",
    "    gp = GP(kernel, t, diag, J=4, Q=Q)\n",
    "\n",
    "    # Compute the Gaussian Process likelihood and add it into the\n",
    "    # the PyMC3 model as a \"potential\"\n",
    "    pm.Potential(\"loglike\", gp.log_likelihood((n - transit).T))\n",
    "\n",
    "    # Compute the mean model prediction for plotting purposes\n",
    "    #pm.Deterministic(\"mu\", gp.predict())\n",
    "    map_soln = xo.optimize(start=model.test_point, verbose=False)"
   ]
  },
  {
   "cell_type": "code",
   "execution_count": 102,
   "metadata": {},
   "outputs": [
    {
     "name": "stderr",
     "output_type": "stream",
     "text": [
      "/Users/tgordon/Library/Python/3.7/lib/python/site-packages/theano/tensor/basic.py:6611: FutureWarning: Using a non-tuple sequence for multidimensional indexing is deprecated; use `arr[tuple(seq)]` instead of `arr[seq]`. In the future this will be interpreted as an array index, `arr[np.array(seq)]`, which will result either in an error or a different result.\n",
      "  result[diagonal_slice] = x\n",
      "optimizing logp for variables: [tin, d, r, t0, a, logw0, logQ, logS0, sig]\n",
      "19it [00:00, 187.21it/s, logp=1.754799e+04]/Users/tgordon/Library/Python/3.7/lib/python/site-packages/theano/tensor/basic.py:6611: FutureWarning: Using a non-tuple sequence for multidimensional indexing is deprecated; use `arr[tuple(seq)]` instead of `arr[seq]`. In the future this will be interpreted as an array index, `arr[np.array(seq)]`, which will result either in an error or a different result.\n",
      "  result[diagonal_slice] = x\n",
      "21it [00:00, 187.21it/s, logp=1.754855e+04]/Users/tgordon/Library/Python/3.7/lib/python/site-packages/theano/tensor/basic.py:6611: FutureWarning: Using a non-tuple sequence for multidimensional indexing is deprecated; use `arr[tuple(seq)]` instead of `arr[seq]`. In the future this will be interpreted as an array index, `arr[np.array(seq)]`, which will result either in an error or a different result.\n",
      "  result[diagonal_slice] = x\n",
      "24it [00:00, 187.21it/s, logp=1.754855e+04]/Users/tgordon/Library/Python/3.7/lib/python/site-packages/theano/tensor/basic.py:6611: FutureWarning: Using a non-tuple sequence for multidimensional indexing is deprecated; use `arr[tuple(seq)]` instead of `arr[seq]`. In the future this will be interpreted as an array index, `arr[np.array(seq)]`, which will result either in an error or a different result.\n",
      "  result[diagonal_slice] = x\n",
      "37it [00:00, 134.55it/s, logp=1.754864e+04]\n",
      "message: Desired error not necessarily achieved due to precision loss.\n",
      "logp: 17544.181525783162 -> 17548.552815289848\n"
     ]
    }
   ],
   "source": [
    "with model:\n",
    "    map_soln = xo.optimize(start=model.test_point)"
   ]
  },
  {
   "cell_type": "code",
   "execution_count": 103,
   "metadata": {},
   "outputs": [
    {
     "data": {
      "text/plain": [
       "{'sig': array(-9.99278802),\n",
       " 'logS0': array(-10.05769887),\n",
       " 'logQ': array(-0.67368444),\n",
       " 'logw0': array(-0.00986703),\n",
       " 'a_interval__': array(-1.38588601),\n",
       " 't0': array(4.99986568),\n",
       " 'r_interval__': array(-2.19679629),\n",
       " 'd_interval__': array(-2.19753975),\n",
       " 'tin_interval__': array(-5.29092742),\n",
       " 'a': array(2.00065345),\n",
       " 'r': array(0.10003855),\n",
       " 'd': array(0.99971638),\n",
       " 'tin': array(0.05011842)}"
      ]
     },
     "execution_count": 103,
     "metadata": {},
     "output_type": "execute_result"
    }
   ],
   "source": [
    "map_soln"
   ]
  },
  {
   "cell_type": "code",
   "execution_count": null,
   "metadata": {},
   "outputs": [],
   "source": []
  },
  {
   "cell_type": "code",
   "execution_count": 63,
   "metadata": {},
   "outputs": [
    {
     "data": {
      "text/plain": [
       "(2000, 1)"
      ]
     },
     "execution_count": 63,
     "metadata": {},
     "output_type": "execute_result"
    }
   ],
   "source": [
    "n.shape"
   ]
  },
  {
   "cell_type": "code",
   "execution_count": 69,
   "metadata": {},
   "outputs": [],
   "source": [
    "q = tt.stack(1, 2)\n",
    "Q = q[:, None]*q[None, :]"
   ]
  },
  {
   "cell_type": "code",
   "execution_count": 71,
   "metadata": {},
   "outputs": [
    {
     "data": {
      "text/plain": [
       "array([1, 4], dtype=int8)"
      ]
     },
     "execution_count": 71,
     "metadata": {},
     "output_type": "execute_result"
    }
   ],
   "source": [
    "tt.diag(Q).eval()"
   ]
  },
  {
   "cell_type": "code",
   "execution_count": null,
   "metadata": {},
   "outputs": [],
   "source": []
  }
 ],
 "metadata": {
  "kernelspec": {
   "display_name": "Python 3",
   "language": "python",
   "name": "python3"
  },
  "language_info": {
   "codemirror_mode": {
    "name": "ipython",
    "version": 3
   },
   "file_extension": ".py",
   "mimetype": "text/x-python",
   "name": "python",
   "nbconvert_exporter": "python",
   "pygments_lexer": "ipython3",
   "version": "3.7.6"
  }
 },
 "nbformat": 4,
 "nbformat_minor": 2
}
