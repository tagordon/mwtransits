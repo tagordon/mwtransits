{
 "cells": [
  {
   "cell_type": "code",
   "execution_count": 1,
   "metadata": {},
   "outputs": [],
   "source": [
    "%run proof_setup"
   ]
  },
  {
   "cell_type": "markdown",
   "metadata": {},
   "source": [
    "## Real case\n",
    "\n",
    "First, the real case is relatively simple.\n",
    "The integral that we want to do is:\n",
    "\n",
    "$$\n",
    "k_\\Delta(\\tau) = \\frac{1}{\\Delta^2}\\int_{t_i-\\Delta/2}^{t_i+\\Delta/2} \\mathrm{d}t \\,\\int_{t_j-\\Delta/2}^{t_j+\\Delta/2}\\mathrm{d}t^\\prime\\,k(t - t^\\prime)\n",
    "$$\n",
    "\n",
    "For celerite kernels it helps to make the assumtion that $t_j + \\Delta/2 < t_i - \\Delta/2$ (in other words, the exposure times do not overlap)."
   ]
  },
  {
   "cell_type": "code",
   "execution_count": 2,
   "metadata": {},
   "outputs": [
    {
     "name": "stdout",
     "output_type": "stream",
     "text": [
      "(exp(2*cr*dt) - 2*exp(cr*dt) + 1)*exp(-cr*dt)/(cr**2*dt**2)\n"
     ]
    }
   ],
   "source": [
    "import sympy as sm\n",
    "\n",
    "cr = sm.symbols(\"cr\", positive=True)\n",
    "ti, tj, dt, t, tp = sm.symbols(\"ti, tj, dt, t, tp\", real=True)\n",
    "\n",
    "k = sm.exp(-cr * (t - tp))\n",
    "k0 = k.subs([(t, ti), (tp, tj)])\n",
    "kint = sm.simplify(\n",
    "    sm.integrate(\n",
    "        sm.integrate(k, (t, ti - dt / 2, ti + dt / 2)), (tp, tj - dt / 2, tj + dt / 2)\n",
    "    )\n",
    "    / dt ** 2\n",
    ")\n",
    "res = sm.simplify(kint / k0)\n",
    "print(res)"
   ]
  },
  {
   "cell_type": "markdown",
   "metadata": {},
   "source": [
    "This is the factor that we want.\n",
    "Let's make sure that it is identical to what we have in the note."
   ]
  },
  {
   "cell_type": "code",
   "execution_count": 3,
   "metadata": {},
   "outputs": [
    {
     "data": {
      "text/plain": [
       "0"
      ]
     },
     "execution_count": 3,
     "metadata": {},
     "output_type": "execute_result"
    }
   ],
   "source": [
    "kD = 2 * (sm.cosh(cr * dt) - 1) / (cr * dt) ** 2\n",
    "sm.simplify(res.expand() - kD.expand())"
   ]
  },
  {
   "cell_type": "markdown",
   "metadata": {},
   "source": [
    "Excellent.\n",
    "\n",
    "Let's double check that this reduces to the original kernel in the limit $\\Delta \\to 0$:"
   ]
  },
  {
   "cell_type": "code",
   "execution_count": 4,
   "metadata": {},
   "outputs": [
    {
     "data": {
      "text/plain": [
       "1"
      ]
     },
     "execution_count": 4,
     "metadata": {},
     "output_type": "execute_result"
    }
   ],
   "source": [
    "sm.limit(kD, dt, 0)"
   ]
  },
  {
   "cell_type": "markdown",
   "metadata": {},
   "source": [
    "## Complex case\n",
    "\n",
    "The complex cases proceeds similarly, but it's a bit more involved.\n",
    "In this case,\n",
    "\n",
    "$$\n",
    "k(\\tau) = (a + i\\,b)\\,\\exp(-(c+i\\,d)\\,(t_i-t_j))\n",
    "$$"
   ]
  },
  {
   "cell_type": "code",
   "execution_count": 5,
   "metadata": {},
   "outputs": [
    {
     "name": "stdout",
     "output_type": "stream",
     "text": [
      "(2*cos(I*dt*(c + I*d)) - 2)/(dt**2*(c**2 + 2*I*c*d - d**2))\n"
     ]
    }
   ],
   "source": [
    "a, b, c, d = sm.symbols(\"a, b, c, d\", real=True, positive=True)\n",
    "k = sm.exp(-(c + sm.I * d) * (t - tp))\n",
    "k0 = k.subs([(t, ti), (tp, tj)])\n",
    "kint = sm.simplify(sm.integrate(k, (t, ti - dt / 2, ti + dt / 2)) / dt)\n",
    "kint = sm.simplify(sm.integrate(kint.expand(), (tp, tj - dt / 2, tj + dt / 2)) / dt)\n",
    "print(sm.simplify(kint / k0))"
   ]
  },
  {
   "cell_type": "markdown",
   "metadata": {},
   "source": [
    "That doesn't look so bad!\n",
    "\n",
    "But, I'm going to re-write it by hand and make sure that it's correct:"
   ]
  },
  {
   "cell_type": "code",
   "execution_count": 6,
   "metadata": {},
   "outputs": [
    {
     "data": {
      "text/plain": [
       "0"
      ]
     },
     "execution_count": 6,
     "metadata": {},
     "output_type": "execute_result"
    }
   ],
   "source": [
    "coeff = (c - sm.I * d) ** 2 / (dt * (c ** 2 + d ** 2)) ** 2\n",
    "coeff *= sm.exp((c + sm.I * d) * dt) + sm.exp(-(c + sm.I * d) * dt) - 2\n",
    "sm.simplify(coeff * k0 - kint)"
   ]
  },
  {
   "cell_type": "markdown",
   "metadata": {},
   "source": [
    "Good.\n",
    "\n",
    "Now we need to work out nice expressions for the real and imaginary parts of this.\n",
    "First, the real part.\n",
    "I found that it was easiest to look at the prefactors for the trig functions directly and simplify those.\n",
    "Here we go:"
   ]
  },
  {
   "cell_type": "code",
   "execution_count": 7,
   "metadata": {},
   "outputs": [],
   "source": [
    "res = (a + sm.I * b) * coeff\n",
    "A = sm.simplify((res.expand(complex=True) + sm.conjugate(res).expand(complex=True)) / 2)"
   ]
  },
  {
   "cell_type": "code",
   "execution_count": 8,
   "metadata": {},
   "outputs": [
    {
     "data": {
      "text/plain": [
       "(a*c**2*exp(2*c*dt) + a*c**2 - a*d**2*exp(2*c*dt) - a*d**2 + 2*b*c*d*exp(2*c*dt) + 2*b*c*d)*exp(-c*dt)/(dt**2*(c**4 + 2*c**2*d**2 + d**4))"
      ]
     },
     "execution_count": 8,
     "metadata": {},
     "output_type": "execute_result"
    }
   ],
   "source": [
    "sm.simplify(sm.poly(A, sm.cos(dt * d)).coeff_monomial(sm.cos(dt * d)))"
   ]
  },
  {
   "cell_type": "code",
   "execution_count": 9,
   "metadata": {},
   "outputs": [
    {
     "data": {
      "text/plain": [
       "(2*a*c*d*exp(2*c*dt) - 2*a*c*d - b*c**2*exp(2*c*dt) + b*c**2 + b*d**2*exp(2*c*dt) - b*d**2)*exp(-c*dt)/(dt**2*(c**4 + 2*c**2*d**2 + d**4))"
      ]
     },
     "execution_count": 9,
     "metadata": {},
     "output_type": "execute_result"
    }
   ],
   "source": [
    "sm.simplify(\n",
    "    sm.poly(\n",
    "        sm.poly(A, sm.cos(dt * d)).coeff_monomial(1), sm.sin(dt * d)\n",
    "    ).coeff_monomial(sm.sin(dt * d))\n",
    ")"
   ]
  },
  {
   "cell_type": "code",
   "execution_count": 10,
   "metadata": {},
   "outputs": [
    {
     "data": {
      "text/plain": [
       "2*(-a*c**2 + a*d**2 - 2*b*c*d)/(dt**2*(c**4 + 2*c**2*d**2 + d**4))"
      ]
     },
     "execution_count": 10,
     "metadata": {},
     "output_type": "execute_result"
    }
   ],
   "source": [
    "sm.simplify(\n",
    "    sm.poly(\n",
    "        sm.poly(A, sm.cos(dt * d)).coeff_monomial(1), sm.sin(dt * d)\n",
    "    ).coeff_monomial(1)\n",
    ")"
   ]
  },
  {
   "cell_type": "markdown",
   "metadata": {},
   "source": [
    "Then, same thing for the imaginary part:"
   ]
  },
  {
   "cell_type": "code",
   "execution_count": 11,
   "metadata": {},
   "outputs": [],
   "source": [
    "B = sm.simplify(\n",
    "    -sm.I * (res.expand(complex=True) - sm.conjugate(res).expand(complex=True)) / 2\n",
    ")"
   ]
  },
  {
   "cell_type": "code",
   "execution_count": 12,
   "metadata": {},
   "outputs": [
    {
     "data": {
      "text/plain": [
       "(-2*a*c*d*exp(2*c*dt) - 2*a*c*d + b*c**2*exp(2*c*dt) + b*c**2 - b*d**2*exp(2*c*dt) - b*d**2)*exp(-c*dt)/(dt**2*(c**4 + 2*c**2*d**2 + d**4))"
      ]
     },
     "execution_count": 12,
     "metadata": {},
     "output_type": "execute_result"
    }
   ],
   "source": [
    "sm.simplify(sm.poly(B, sm.cos(dt * d)).coeff_monomial(sm.cos(dt * d)))"
   ]
  },
  {
   "cell_type": "code",
   "execution_count": 13,
   "metadata": {},
   "outputs": [
    {
     "data": {
      "text/plain": [
       "(a*c**2*exp(2*c*dt) - a*c**2 - a*d**2*exp(2*c*dt) + a*d**2 + 2*b*c*d*exp(2*c*dt) - 2*b*c*d)*exp(-c*dt)/(dt**2*(c**4 + 2*c**2*d**2 + d**4))"
      ]
     },
     "execution_count": 13,
     "metadata": {},
     "output_type": "execute_result"
    }
   ],
   "source": [
    "sm.simplify(\n",
    "    sm.poly(\n",
    "        sm.poly(B, sm.cos(dt * d)).coeff_monomial(1), sm.sin(dt * d)\n",
    "    ).coeff_monomial(sm.sin(dt * d))\n",
    ")"
   ]
  },
  {
   "cell_type": "code",
   "execution_count": 14,
   "metadata": {},
   "outputs": [
    {
     "data": {
      "text/plain": [
       "2*(2*a*c*d - b*c**2 + b*d**2)/(dt**2*(c**4 + 2*c**2*d**2 + d**4))"
      ]
     },
     "execution_count": 14,
     "metadata": {},
     "output_type": "execute_result"
    }
   ],
   "source": [
    "sm.simplify(\n",
    "    sm.poly(\n",
    "        sm.poly(B, sm.cos(dt * d)).coeff_monomial(1), sm.sin(dt * d)\n",
    "    ).coeff_monomial(1)\n",
    ")"
   ]
  },
  {
   "cell_type": "markdown",
   "metadata": {},
   "source": [
    "Ok.\n",
    "\n",
    "Now let's make sure that the simplified expressions are right."
   ]
  },
  {
   "cell_type": "code",
   "execution_count": 15,
   "metadata": {},
   "outputs": [],
   "source": [
    "C1 = a * c ** 2 - a * d ** 2 + 2 * b * c * d\n",
    "C2 = b * c ** 2 - b * d ** 2 - 2 * a * c * d\n",
    "cos_term = (sm.exp(c * dt) + sm.exp(-c * dt)) * sm.cos(d * dt) - 2\n",
    "sin_term = (sm.exp(c * dt) - sm.exp(-c * dt)) * sm.sin(d * dt)\n",
    "denom = dt ** 2 * (c ** 2 + d ** 2) ** 2\n",
    "\n",
    "A0 = (C1 * cos_term - C2 * sin_term) / denom\n",
    "B0 = (C2 * cos_term + C1 * sin_term) / denom"
   ]
  },
  {
   "cell_type": "code",
   "execution_count": 16,
   "metadata": {},
   "outputs": [
    {
     "data": {
      "text/plain": [
       "0"
      ]
     },
     "execution_count": 16,
     "metadata": {},
     "output_type": "execute_result"
    }
   ],
   "source": [
    "sm.simplify(A.expand() - A0.expand())"
   ]
  },
  {
   "cell_type": "code",
   "execution_count": 17,
   "metadata": {},
   "outputs": [
    {
     "data": {
      "text/plain": [
       "0"
      ]
     },
     "execution_count": 17,
     "metadata": {},
     "output_type": "execute_result"
    }
   ],
   "source": [
    "sm.simplify(B.expand() - B0.expand())"
   ]
  },
  {
   "cell_type": "markdown",
   "metadata": {},
   "source": [
    "Finally let's rewrite things in terms of hyperbolic trig functions."
   ]
  },
  {
   "cell_type": "code",
   "execution_count": 18,
   "metadata": {},
   "outputs": [
    {
     "data": {
      "text/plain": [
       "0"
      ]
     },
     "execution_count": 18,
     "metadata": {},
     "output_type": "execute_result"
    }
   ],
   "source": [
    "sm.simplify(2 * (sm.cosh(c * dt) * sm.cos(d * dt) - 1).expand() - cos_term.expand())"
   ]
  },
  {
   "cell_type": "code",
   "execution_count": 19,
   "metadata": {},
   "outputs": [
    {
     "data": {
      "text/plain": [
       "0"
      ]
     },
     "execution_count": 19,
     "metadata": {},
     "output_type": "execute_result"
    }
   ],
   "source": [
    "sm.simplify(2 * (sm.sinh(c * dt) * sm.sin(d * dt)).expand() - sin_term.expand())"
   ]
  },
  {
   "cell_type": "markdown",
   "metadata": {},
   "source": [
    "Looks good!\n",
    "\n",
    "Let's make sure that this actually reproduces the target integral:"
   ]
  },
  {
   "cell_type": "code",
   "execution_count": 20,
   "metadata": {},
   "outputs": [
    {
     "data": {
      "text/plain": [
       "0"
      ]
     },
     "execution_count": 20,
     "metadata": {},
     "output_type": "execute_result"
    }
   ],
   "source": [
    "sm.simplify(((a + sm.I * b) * kint / k0 - (A + sm.I * B)).expand(complex=True))"
   ]
  },
  {
   "cell_type": "markdown",
   "metadata": {},
   "source": [
    "Finally, let's make sure that this reduces to the original kernel when $\\Delta \\to 0$:"
   ]
  },
  {
   "cell_type": "code",
   "execution_count": 21,
   "metadata": {},
   "outputs": [
    {
     "data": {
      "text/plain": [
       "(a, b)"
      ]
     },
     "execution_count": 21,
     "metadata": {},
     "output_type": "execute_result"
    }
   ],
   "source": [
    "sm.limit(A, dt, 0), sm.limit(B, dt, 0)"
   ]
  },
  {
   "cell_type": "code",
   "execution_count": 22,
   "metadata": {},
   "outputs": [
    {
     "data": {
      "text/plain": [
       "a*((exp(c*dt) - 2)*exp(c*dt) + 1)*exp(-c*dt)/(c**2*dt**2)"
      ]
     },
     "execution_count": 22,
     "metadata": {},
     "output_type": "execute_result"
    }
   ],
   "source": [
    "sm.simplify(A.subs([(d, 0), (b, 0)]))"
   ]
  },
  {
   "cell_type": "code",
   "execution_count": 23,
   "metadata": {},
   "outputs": [
    {
     "data": {
      "text/plain": [
       "0"
      ]
     },
     "execution_count": 23,
     "metadata": {},
     "output_type": "execute_result"
    }
   ],
   "source": [
    "sm.simplify(B.subs([(d, 0), (b, 0)]))"
   ]
  },
  {
   "cell_type": "markdown",
   "metadata": {},
   "source": [
    "## Overlapping exposures & the power spectrum\n",
    "\n",
    "If we directly evaluate the power spectrum of this kernel, we'll have some issues because there will be power from lags where our assumption of non-overlapping exposures will break down.\n",
    "Instead, we can evaluate the correct power spectrum by realizing that the integrals that we're doing are convolutions.\n",
    "Therefore, the power spectrum of the integrated kernel will be product of the original power spectrum with the square of the Fourier transform of the top hat exposure function."
   ]
  },
  {
   "cell_type": "code",
   "execution_count": 24,
   "metadata": {},
   "outputs": [
    {
     "data": {
      "text/plain": [
       "Piecewise((2*sin(dt*omega/2)/(dt*omega), Ne(dt*omega, 0)), (1, True))"
      ]
     },
     "execution_count": 24,
     "metadata": {},
     "output_type": "execute_result"
    }
   ],
   "source": [
    "omega = sm.symbols(\"omega\", real=True)\n",
    "sm.simplify(sm.integrate(sm.exp(sm.I * t * omega) / dt, (t, -dt / 2, dt / 2)))"
   ]
  },
  {
   "cell_type": "markdown",
   "metadata": {},
   "source": [
    "Therefore, the integrated power spectrum is\n",
    "\n",
    "$$\n",
    "S_\\Delta(\\omega) = \\frac{\\sin^2(\\Delta\\,\\omega/2)}{(\\Delta\\,\\omega/2)^2}\\,S(\\omega)\n",
    " = \\mathrm{sinc}^2(\\Delta\\,\\omega/2)\\,S(\\omega)\n",
    "$$"
   ]
  },
  {
   "cell_type": "markdown",
   "metadata": {},
   "source": [
    "For overlapping exposures, some care must be taken when computing the autocorrelation because of the absolute value.\n",
    "This also means that celerite cannot be used (as far as I can tell) to evaluate exposure time integrated models with overlapping exposures.\n",
    "In this case, the integral we want to do is:\n",
    "\n",
    "$$\n",
    "k_\\Delta(\\tau) = \\frac{1}{\\Delta^2}\\int_{t_i-\\Delta/2}^{t_i+\\Delta/2} \\mathrm{d}t \\,\\int_{t_j-\\Delta/2}^{t_j+\\Delta/2}\\mathrm{d}t^\\prime\\,k(|t - t^\\prime|)\n",
    "$$\n",
    "\n",
    "which can be broken into three integrals when $\\tau = |t_i - t_j| \\le \\Delta$ (assuming still that $t_i \\ge t_j$):\n",
    "\n",
    "$$\n",
    "\\Delta^2\\,k_\\Delta(\\tau)\n",
    "= \\int_{t_j+\\Delta/2}^{t_i+\\Delta/2} \\mathrm{d}t \\,\\int_{t_j-\\Delta/2}^{t_j+\\Delta/2}\\mathrm{d}t^\\prime\\,k(t - t^\\prime)\n",
    "+ \\int_{t_i-\\Delta/2}^{t_j+\\Delta/2} \\mathrm{d}t \\,\\int_{t_j-\\Delta/2}^{t}\\mathrm{d}t^\\prime\\,k(t - t^\\prime)\n",
    "+ \\int_{t_i-\\Delta/2}^{t_j+\\Delta/2} \\mathrm{d}t \\,\\int_{t}^{t_j+\\Delta/2}\\mathrm{d}t^\\prime\\,k(t^\\prime - t)\n",
    "$$\n"
   ]
  },
  {
   "cell_type": "code",
   "execution_count": 25,
   "metadata": {},
   "outputs": [
    {
     "data": {
      "text/plain": [
       "(2*cr*dt*exp(cr*tau) - 2*cr*tau*exp(cr*tau) + exp(cr*(-dt + 2*tau)) - 2 + exp(-cr*dt))*exp(-cr*tau)/(cr**2*dt**2)"
      ]
     },
     "execution_count": 25,
     "metadata": {},
     "output_type": "execute_result"
    }
   ],
   "source": [
    "tau = sm.symbols(\"tau\", real=True, positive=True)\n",
    "kp = sm.exp(-cr * (t - tp))\n",
    "km = sm.exp(-cr * (tp - t))\n",
    "k1 = sm.simplify(\n",
    "    sm.integrate(\n",
    "        sm.integrate(kp, (tp, tj - dt / 2, tj + dt / 2)), (t, tj + dt / 2, ti + dt / 2)\n",
    "    )\n",
    "    / dt ** 2\n",
    ")\n",
    "k2 = sm.simplify(\n",
    "    sm.integrate(sm.integrate(kp, (tp, tj - dt / 2, t)), (t, ti - dt / 2, tj + dt / 2))\n",
    "    / dt ** 2\n",
    ")\n",
    "k3 = sm.simplify(\n",
    "    sm.integrate(sm.integrate(km, (tp, t, tj + dt / 2)), (t, ti - dt / 2, tj + dt / 2))\n",
    "    / dt ** 2\n",
    ")\n",
    "kD = sm.simplify((k1 + k2 + k3).expand())\n",
    "res = sm.simplify(kD.subs([(ti, tau + tj)]))\n",
    "res"
   ]
  },
  {
   "cell_type": "code",
   "execution_count": 26,
   "metadata": {},
   "outputs": [
    {
     "data": {
      "text/plain": [
       "0"
      ]
     },
     "execution_count": 26,
     "metadata": {},
     "output_type": "execute_result"
    }
   ],
   "source": [
    "kint = (\n",
    "    2 * cr * (dt - tau)\n",
    "    + sm.exp(-cr * (dt - tau))\n",
    "    - 2 * sm.exp(-cr * tau)\n",
    "    + sm.exp(-cr * (dt + tau))\n",
    ") / (cr * dt) ** 2\n",
    "sm.simplify(kint - res)"
   ]
  },
  {
   "cell_type": "markdown",
   "metadata": {},
   "source": [
    "Ok. That's the result for the real case. Now let's work through the result for the complex case."
   ]
  },
  {
   "cell_type": "code",
   "execution_count": 27,
   "metadata": {},
   "outputs": [
    {
     "data": {
      "text/plain": [
       "(2*dt*(a*c**3 + a*c*d**2 + b*c**2*d + b*d**3)*exp(c*(2*dt + 2*tau)) - 2*tau*(a*c**3 + a*c*d**2 + b*c**2*d + b*d**3)*exp(c*(2*dt + 2*tau)) + 2*(-a*c**2*cos(d*tau) + 2*a*c*d*sin(d*tau) + a*d**2*cos(d*tau) - b*c**2*sin(d*tau) - 2*b*c*d*cos(d*tau) + b*d**2*sin(d*tau))*exp(c*(2*dt + tau)) + (a*c**2*cos(d*(dt - tau)) - 2*a*c*d*sin(d*(dt - tau)) - a*d**2*cos(d*(dt - tau)) + b*c**2*sin(d*(dt - tau)) + 2*b*c*d*cos(d*(dt - tau)) - b*d**2*sin(d*(dt - tau)))*exp(c*(dt + 3*tau)) + (a*c**2*cos(d*(dt + tau)) - 2*a*c*d*sin(d*(dt + tau)) - a*d**2*cos(d*(dt + tau)) + b*c**2*sin(d*(dt + tau)) + 2*b*c*d*cos(d*(dt + tau)) - b*d**2*sin(d*(dt + tau)))*exp(c*(dt + tau)))*exp(-2*c*(dt + tau))/(dt**2*(c**4 + 2*c**2*d**2 + d**4))"
      ]
     },
     "execution_count": 27,
     "metadata": {},
     "output_type": "execute_result"
    }
   ],
   "source": [
    "arg1 = ((a + sm.I * b) * kint.subs([(cr, c + sm.I * d)])).expand(complex=True)\n",
    "arg2 = ((a - sm.I * b) * kint.subs([(cr, c - sm.I * d)])).expand(complex=True)\n",
    "res = sm.simplify((arg1 + arg2) / 2)\n",
    "res"
   ]
  },
  {
   "cell_type": "code",
   "execution_count": 28,
   "metadata": {},
   "outputs": [
    {
     "data": {
      "text/plain": [
       "0"
      ]
     },
     "execution_count": 28,
     "metadata": {},
     "output_type": "execute_result"
    }
   ],
   "source": [
    "C1 = a * c ** 2 - a * d ** 2 + 2 * b * c * d\n",
    "C2 = b * c ** 2 - b * d ** 2 - 2 * a * c * d\n",
    "denom = dt ** 2 * (c ** 2 + d ** 2) ** 2\n",
    "\n",
    "dpt = dt + tau\n",
    "dmt = dt - tau\n",
    "cos_term = (\n",
    "    sm.exp(-c * dmt) * sm.cos(d * dmt)\n",
    "    + sm.exp(-c * dpt) * sm.cos(d * dpt)\n",
    "    - 2 * sm.exp(-c * tau) * sm.cos(d * tau)\n",
    ")\n",
    "sin_term = (\n",
    "    sm.exp(-c * dmt) * sm.sin(d * dmt)\n",
    "    + sm.exp(-c * dpt) * sm.sin(d * dpt)\n",
    "    - 2 * sm.exp(-c * tau) * sm.sin(d * tau)\n",
    ")\n",
    "\n",
    "ktest = 2 * (a * c + b * d) * (c ** 2 + d ** 2) * dmt\n",
    "ktest += C1 * cos_term + C2 * sin_term\n",
    "ktest /= denom\n",
    "\n",
    "sm.simplify(ktest - res)"
   ]
  },
  {
   "cell_type": "markdown",
   "metadata": {},
   "source": [
    "This corresponds to adding a function to the kernel:"
   ]
  },
  {
   "cell_type": "code",
   "execution_count": 29,
   "metadata": {},
   "outputs": [
    {
     "data": {
      "text/plain": [
       "0"
      ]
     },
     "execution_count": 29,
     "metadata": {},
     "output_type": "execute_result"
    }
   ],
   "source": [
    "delta = sm.simplify(\n",
    "    ktest.expand(trig=True)\n",
    "    - (A * sm.exp(-c * tau) * sm.cos(d * tau) + B * sm.exp(-c * tau) * sm.sin(d * tau))\n",
    ")\n",
    "\n",
    "C1 = a * c ** 2 - a * d ** 2 + 2 * b * c * d\n",
    "C2 = b * c ** 2 - b * d ** 2 - 2 * a * c * d\n",
    "sinh = (sm.exp(c * (dt - tau)) - sm.exp(-c * (dt - tau))) / 2\n",
    "cosh = (sm.exp(c * (dt - tau)) + sm.exp(-c * (dt - tau))) / 2\n",
    "norm = dt ** 2 * (c ** 2 + d ** 2) ** 2\n",
    "\n",
    "delta_test = (\n",
    "    2\n",
    "    * (\n",
    "        C2 * cosh * sm.sin(d * (dt - tau))\n",
    "        - C1 * sinh * sm.cos(d * (dt - tau))\n",
    "        + (a * c + b * d) * (dt - tau) * (c ** 2 + d ** 2)\n",
    "    )\n",
    "    / norm\n",
    ")\n",
    "sm.simplify(delta.expand(trig=True) - delta_test.expand(trig=True))"
   ]
  },
  {
   "cell_type": "markdown",
   "metadata": {},
   "source": [
    "And now, finally, I think we're done."
   ]
  },
  {
   "cell_type": "markdown",
   "metadata": {},
   "source": [
    "## What about the diagonal?\n",
    "\n",
    "By default, the diagonal terms in a celerite model are $\\sum a_j$.\n",
    "In this case, that would be $A$, but that would be wrong because $\\tau = 0 < \\Delta$.\n",
    "Let's work out what extra term should be added to the diagonal:"
   ]
  },
  {
   "cell_type": "code",
   "execution_count": 30,
   "metadata": {},
   "outputs": [],
   "source": [
    "delta = sm.simplify(ktest.subs([(tau, 0)]) - A)"
   ]
  },
  {
   "cell_type": "code",
   "execution_count": 31,
   "metadata": {},
   "outputs": [
    {
     "data": {
      "text/plain": [
       "(-a*c**2*exp(2*c*dt) + a*c**2 + a*d**2*exp(2*c*dt) - a*d**2 - 2*b*c*d*exp(2*c*dt) + 2*b*c*d)*exp(-c*dt)/(dt**2*(c**4 + 2*c**2*d**2 + d**4))"
      ]
     },
     "execution_count": 31,
     "metadata": {},
     "output_type": "execute_result"
    }
   ],
   "source": [
    "sm.simplify(sm.poly(delta, sm.cos(dt * d)).coeff_monomial(sm.cos(dt * d)))"
   ]
  },
  {
   "cell_type": "code",
   "execution_count": 32,
   "metadata": {},
   "outputs": [
    {
     "data": {
      "text/plain": [
       "(-2*a*c*d*exp(2*c*dt) - 2*a*c*d + b*c**2*exp(2*c*dt) + b*c**2 - b*d**2*exp(2*c*dt) - b*d**2)*exp(-c*dt)/(dt**2*(c**4 + 2*c**2*d**2 + d**4))"
      ]
     },
     "execution_count": 32,
     "metadata": {},
     "output_type": "execute_result"
    }
   ],
   "source": [
    "sm.simplify(\n",
    "    sm.poly(\n",
    "        sm.poly(delta, sm.cos(dt * d)).coeff_monomial(1), sm.sin(dt * d)\n",
    "    ).coeff_monomial(sm.sin(dt * d))\n",
    ")"
   ]
  },
  {
   "cell_type": "code",
   "execution_count": 33,
   "metadata": {},
   "outputs": [
    {
     "data": {
      "text/plain": [
       "2*(a*c + b*d)/(dt*(c**2 + d**2))"
      ]
     },
     "execution_count": 33,
     "metadata": {},
     "output_type": "execute_result"
    }
   ],
   "source": [
    "sm.simplify(\n",
    "    sm.poly(\n",
    "        sm.poly(delta, sm.cos(dt * d)).coeff_monomial(1), sm.sin(dt * d)\n",
    "    ).coeff_monomial(1)\n",
    ")"
   ]
  },
  {
   "cell_type": "markdown",
   "metadata": {},
   "source": [
    "Let's check that our simplified expression is correct:"
   ]
  },
  {
   "cell_type": "code",
   "execution_count": 34,
   "metadata": {},
   "outputs": [
    {
     "data": {
      "text/plain": [
       "0"
      ]
     },
     "execution_count": 34,
     "metadata": {},
     "output_type": "execute_result"
    }
   ],
   "source": [
    "C1 = a * c ** 2 - a * d ** 2 + 2 * b * c * d\n",
    "C2 = b * c ** 2 - b * d ** 2 - 2 * a * c * d\n",
    "norm = dt ** 2 * (c ** 2 + d ** 2) ** 2\n",
    "sinh = (sm.exp(c * dt) - sm.exp(-c * dt)) / 2\n",
    "cosh = (sm.exp(c * dt) + sm.exp(-c * dt)) / 2\n",
    "delta_test = (\n",
    "    2\n",
    "    * (\n",
    "        C2 * cosh * sm.sin(d * dt)\n",
    "        - C1 * sinh * sm.cos(d * dt)\n",
    "        + (a * c + b * d) * dt * (c ** 2 + d ** 2)\n",
    "    )\n",
    "    / norm\n",
    ")\n",
    "\n",
    "sm.simplify(\n",
    "    delta.expand(trig=True, complex=True) - delta_test.expand(trig=True, complex=True)\n",
    ")"
   ]
  },
  {
   "cell_type": "markdown",
   "metadata": {},
   "source": [
    "And check the result for the real term:"
   ]
  },
  {
   "cell_type": "code",
   "execution_count": 35,
   "metadata": {},
   "outputs": [
    {
     "data": {
      "text/plain": [
       "0"
      ]
     },
     "execution_count": 35,
     "metadata": {},
     "output_type": "execute_result"
    }
   ],
   "source": [
    "sm.simplify(delta_test.subs([(d, 0), (b, 0)]) - 2 * a * (c * dt - sinh) / (dt * c) ** 2)"
   ]
  },
  {
   "cell_type": "markdown",
   "metadata": {},
   "source": [
    "Now let's check to make sure that the diagonal will always be positive:"
   ]
  },
  {
   "cell_type": "code",
   "execution_count": 46,
   "metadata": {},
   "outputs": [
    {
     "data": {
      "text/plain": [
       "0"
      ]
     },
     "execution_count": 46,
     "metadata": {},
     "output_type": "execute_result"
    }
   ],
   "source": [
    "diag_test = (\n",
    "    2\n",
    "    * (\n",
    "        (a * c + b * d) * (c ** 2 + d ** 2) * dt\n",
    "        - C1\n",
    "        + sm.exp(-c * dt) * (C1 * sm.cos(d * dt) + C2 * sm.sin(d * dt))\n",
    "    )\n",
    "    / (dt * (c ** 2 + d ** 2)) ** 2\n",
    ")\n",
    "\n",
    "sm.simplify(ktest.subs([(tau, 0)]) - diag_test)"
   ]
  },
  {
   "cell_type": "code",
   "execution_count": 52,
   "metadata": {},
   "outputs": [
    {
     "data": {
      "text/plain": [
       "a"
      ]
     },
     "execution_count": 52,
     "metadata": {},
     "output_type": "execute_result"
    }
   ],
   "source": [
    "sm.limit(diag_test, dt, 0)"
   ]
  },
  {
   "cell_type": "code",
   "execution_count": 53,
   "metadata": {},
   "outputs": [
    {
     "data": {
      "text/plain": [
       "0"
      ]
     },
     "execution_count": 53,
     "metadata": {},
     "output_type": "execute_result"
    }
   ],
   "source": [
    "sm.limit(diag_test, dt, sm.oo)"
   ]
  },
  {
   "cell_type": "code",
   "execution_count": null,
   "metadata": {},
   "outputs": [],
   "source": []
  }
 ],
 "metadata": {
  "kernelspec": {
   "display_name": "Python 3",
   "language": "python",
   "name": "python3"
  },
  "language_info": {
   "codemirror_mode": {
    "name": "ipython",
    "version": 3
   },
   "file_extension": ".py",
   "mimetype": "text/x-python",
   "name": "python",
   "nbconvert_exporter": "python",
   "pygments_lexer": "ipython3",
   "version": "3.6.8"
  }
 },
 "nbformat": 4,
 "nbformat_minor": 2
}
