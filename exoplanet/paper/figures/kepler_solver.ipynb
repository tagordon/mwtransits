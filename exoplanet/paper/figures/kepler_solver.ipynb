{
 "cells": [
  {
   "cell_type": "code",
   "execution_count": null,
   "metadata": {},
   "outputs": [],
   "source": [
    "%matplotlib inline"
   ]
  },
  {
   "cell_type": "code",
   "execution_count": null,
   "metadata": {},
   "outputs": [],
   "source": [
    "import numpy as np\n",
    "import matplotlib.pyplot as plt\n",
    "import cppimport\n",
    "\n",
    "%run notebook_setup"
   ]
  },
  {
   "cell_type": "code",
   "execution_count": null,
   "metadata": {},
   "outputs": [],
   "source": [
    "cppimport.force_rebuild()\n",
    "kepler_bench = cppimport.imp(\"kepler_bench\")"
   ]
  },
  {
   "cell_type": "code",
   "execution_count": null,
   "metadata": {},
   "outputs": [],
   "source": [
    "evals = np.linspace(0.01, 0.99, 10)\n",
    "\n",
    "times_rv = np.zeros_like(evals)\n",
    "err_rv = np.zeros_like(evals)\n",
    "max_rv = np.zeros_like(evals)\n",
    "\n",
    "times_xo = np.zeros_like(evals)\n",
    "err_xo = np.zeros_like(evals)\n",
    "max_xo = np.zeros_like(evals)\n",
    "\n",
    "times_bm = np.zeros_like(evals)\n",
    "err_bm = np.zeros_like(evals)\n",
    "max_bm = np.zeros_like(evals)\n",
    "\n",
    "K = 5\n",
    "\n",
    "for ie, e in enumerate(evals):\n",
    "    print(e)\n",
    "\n",
    "    for k in range(K):\n",
    "        results = kepler_bench.exoplanet(e)\n",
    "        times_xo[ie] += results[0] / K\n",
    "        err_xo[ie] += results[3] / K\n",
    "        max_xo[ie] += results[1] / K\n",
    "\n",
    "    for k in range(K):\n",
    "        results = kepler_bench.radvel(e)\n",
    "        times_rv[ie] += results[0] / K\n",
    "        err_rv[ie] += results[3] / K\n",
    "        max_rv[ie] += results[1] / K\n",
    "\n",
    "    for k in range(K):\n",
    "        results = kepler_bench.batman(e)\n",
    "        times_bm[ie] += results[0] / K\n",
    "        err_bm[ie] += results[3] / K\n",
    "        max_bm[ie] += results[1] / K"
   ]
  },
  {
   "cell_type": "code",
   "execution_count": null,
   "metadata": {},
   "outputs": [],
   "source": [
    "fig, axes = plt.subplots(2, 1, figsize=(7, 7), sharex=True)\n",
    "\n",
    "ax = axes[0]\n",
    "ax.plot(evals, times_xo, \"o-\", label=\"exoplanet\")\n",
    "ax.plot(evals, times_rv, \"o-\", label=\"radvel\")\n",
    "ax.plot(evals, times_bm, \"o-\", label=\"batman\")\n",
    "ax.set_ylabel(r\"$\\log_{10}$(runtime / sec)\")\n",
    "ax.yaxis.set_label_coords(-0.1, 0.5)\n",
    "ax.legend(fontsize=12, ncol=3)\n",
    "\n",
    "ax = axes[1]\n",
    "\n",
    "plt.plot(evals, err_xo, \"o-\", label=\"exoplanet\")\n",
    "plt.plot(evals, err_rv, \"o-\", label=\"radvel\")\n",
    "plt.plot(evals, err_bm, \"o-\", label=\"batman\")\n",
    "\n",
    "plt.plot(evals, max_xo, \"o:\", color=\"C0\", label=\"exoplanet\")\n",
    "plt.plot(evals, max_rv, \"o:\", color=\"C1\", label=\"radvel\")\n",
    "plt.plot(evals, max_bm, \"o:\", color=\"C2\", label=\"batman\")\n",
    "\n",
    "ax.set_xlim(0, 1)\n",
    "ax.set_ylabel(\"$\\log_{10}|\\sin(E_\\mathrm{calc}) - \\sin(E_\\mathrm{true})|$\")\n",
    "ax.yaxis.set_label_coords(-0.1, 0.5)\n",
    "ax.set_xlabel(\"eccentricity\")\n",
    "\n",
    "fig.subplots_adjust(hspace=0.05)\n",
    "fig.savefig(\"kepler_solver.pdf\", bbox_inches=\"tight\");"
   ]
  },
  {
   "cell_type": "code",
   "execution_count": null,
   "metadata": {},
   "outputs": [],
   "source": []
  }
 ],
 "metadata": {
  "kernelspec": {
   "display_name": "Python 3",
   "language": "python",
   "name": "python3"
  },
  "language_info": {
   "codemirror_mode": {
    "name": "ipython",
    "version": 3
   },
   "file_extension": ".py",
   "mimetype": "text/x-python",
   "name": "python",
   "nbconvert_exporter": "python",
   "pygments_lexer": "ipython3",
   "version": "3.6.8"
  }
 },
 "nbformat": 4,
 "nbformat_minor": 2
}
