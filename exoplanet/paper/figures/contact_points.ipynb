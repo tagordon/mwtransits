{
 "cells": [
  {
   "cell_type": "code",
   "execution_count": null,
   "metadata": {},
   "outputs": [],
   "source": [
    "%matplotlib inline"
   ]
  },
  {
   "cell_type": "code",
   "execution_count": null,
   "metadata": {},
   "outputs": [],
   "source": [
    "%run notebook_setup"
   ]
  },
  {
   "cell_type": "code",
   "execution_count": null,
   "metadata": {},
   "outputs": [],
   "source": [
    "import numpy as np\n",
    "import matplotlib.pyplot as plt\n",
    "\n",
    "import theano\n",
    "import theano.tensor as tt\n",
    "import exoplanet as xo"
   ]
  },
  {
   "cell_type": "code",
   "execution_count": null,
   "metadata": {},
   "outputs": [],
   "source": [
    "def get_L2(sinf, cosf, a, e, cosw, sinw, cosi, sini):\n",
    "    e2 = e ** 2\n",
    "    factor = (a * (e2 - 1) / (e * cosf + 1)) ** 2\n",
    "    return factor * (\n",
    "        cosi ** 2 * (cosw * sinf + sinw * cosf) ** 2 + (cosw * cosf - sinw * sinf) ** 2\n",
    "    )\n",
    "\n",
    "\n",
    "egrid = np.linspace(0, 0.99, 51)\n",
    "wgrid = np.linspace(-np.pi, np.pi, 71)\n",
    "bgrid = np.linspace(0.0, 0.99, 4)\n",
    "\n",
    "e, w, b = np.meshgrid(egrid, wgrid, bgrid)\n",
    "\n",
    "a = 100 + np.zeros_like(e)\n",
    "L = 1.1 * np.ones_like(e)\n",
    "\n",
    "cosw = np.cos(w)\n",
    "sinw = np.sin(w)\n",
    "incl_factor = (1 + e * sinw) / (1 - e ** 2)\n",
    "cosi = incl_factor * b * 1.0 / a\n",
    "i = np.arccos(cosi)\n",
    "sini = np.sin(i)\n",
    "\n",
    "contact_op = xo.theano_ops.contact.ContactPointsOp(tol=1e-12)\n",
    "kepler_op = xo.theano_ops.kepler.KeplerOp()\n",
    "M1, M2, flag = contact_op(a, e, cosw, sinw, cosi, sini, L)\n",
    "sinf1, cosf1 = kepler_op(M1, e)\n",
    "sinf2, cosf2 = kepler_op(M2, e)\n",
    "\n",
    "L1 = tt.sqrt(get_L2(sinf1, cosf1, a, e, cosw, sinw, cosi, sini))\n",
    "L2 = tt.sqrt(get_L2(sinf2, cosf2, a, e, cosw, sinw, cosi, sini))\n",
    "\n",
    "L1_val, L2_val, flag_val = theano.function([], [L1, L2, flag])()"
   ]
  },
  {
   "cell_type": "code",
   "execution_count": null,
   "metadata": {},
   "outputs": [],
   "source": [
    "fig, axes = plt.subplots(2, 2, figsize=(9, 8), sharex=True, sharey=True)\n",
    "img = np.log10(np.abs(L1_val - L))\n",
    "img[np.isinf(img)] = np.min(img[~np.isinf(img)])\n",
    "img[flag_val != 0] = np.min(img)\n",
    "vmin = np.min(img)\n",
    "vmax = np.max(img)\n",
    "\n",
    "for ind, ax in enumerate(axes.flat):\n",
    "    art = ax.pcolor(egrid, wgrid, img[:, :, ind], vmin=vmin, vmax=vmax, rasterized=True)\n",
    "    ax.set_title(\"$b = {0:.2f}$\".format(bgrid[ind]), fontsize=16)\n",
    "\n",
    "fig.subplots_adjust(hspace=0.15, wspace=0.05)\n",
    "fig.colorbar(\n",
    "    art,\n",
    "    ax=axes,\n",
    "    aspect=40,\n",
    "    shrink=0.95,\n",
    "    label=r\"$\\log_{10}|L_\\mathrm{calc} - L_\\mathrm{true}|$\",\n",
    ")\n",
    "\n",
    "for ax in axes[1, :]:\n",
    "    ax.set_xlabel(\"eccentricity\")\n",
    "for ax in axes[:, 0]:\n",
    "    ax.set_ylabel(\"omega\")\n",
    "\n",
    "fig.savefig(\"contact_points.pdf\", bbox_inches=\"tight\", dpi=300)"
   ]
  },
  {
   "cell_type": "code",
   "execution_count": null,
   "metadata": {},
   "outputs": [],
   "source": []
  }
 ],
 "metadata": {
  "kernelspec": {
   "display_name": "Python 3",
   "language": "python",
   "name": "python3"
  },
  "language_info": {
   "codemirror_mode": {
    "name": "ipython",
    "version": 3
   },
   "file_extension": ".py",
   "mimetype": "text/x-python",
   "name": "python",
   "nbconvert_exporter": "python",
   "pygments_lexer": "ipython3",
   "version": "3.6.8"
  }
 },
 "nbformat": 4,
 "nbformat_minor": 2
}
