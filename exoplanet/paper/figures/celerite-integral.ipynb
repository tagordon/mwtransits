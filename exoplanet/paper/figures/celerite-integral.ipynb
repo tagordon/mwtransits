{
 "cells": [
  {
   "cell_type": "code",
   "execution_count": null,
   "metadata": {},
   "outputs": [],
   "source": [
    "%matplotlib inline"
   ]
  },
  {
   "cell_type": "code",
   "execution_count": null,
   "metadata": {},
   "outputs": [],
   "source": [
    "%run notebook_setup"
   ]
  },
  {
   "cell_type": "code",
   "execution_count": null,
   "metadata": {},
   "outputs": [],
   "source": [
    "import exoplanet as xo\n",
    "import theano\n",
    "import theano.tensor as tt\n",
    "import numpy as np\n",
    "import matplotlib.pyplot as plt"
   ]
  },
  {
   "cell_type": "code",
   "execution_count": null,
   "metadata": {},
   "outputs": [],
   "source": [
    "kernel = xo.gp.terms.SHOTerm(S0=1.0, w0=2 * np.pi / 5.0, Q=2)"
   ]
  },
  {
   "cell_type": "code",
   "execution_count": null,
   "metadata": {},
   "outputs": [],
   "source": [
    "fig, (ax1, ax2) = plt.subplots(2, 1, figsize=(5, 7))\n",
    "\n",
    "tau = np.linspace(0, 12, 5000)\n",
    "w = 2 * np.pi * np.linspace(0.1, 15, 5000)\n",
    "\n",
    "for i, dt in enumerate([4.0, 2.0, 0.5]):\n",
    "    integrated = xo.gp.terms.IntegratedTerm(kernel, dt)\n",
    "\n",
    "    ax1.plot(\n",
    "        tau,\n",
    "        xo.gp.terms.IntegratedTerm(kernel, dt).value(tau).eval(),\n",
    "        color=\"C{0}\".format(i),\n",
    "        label=\"$t_\\mathrm{{exp}} = {0}$\".format(dt),\n",
    "    )\n",
    "    ax1.axvline(dt, color=\"C{0}\".format(i), linestyle=\"dotted\")\n",
    "\n",
    "    ax2.loglog(\n",
    "        w,\n",
    "        integrated.psd(w).eval(),\n",
    "        color=\"C{0}\".format(i),\n",
    "        label=\"$t_\\mathrm{{exp}} = {0}$\".format(dt),\n",
    "    )\n",
    "    ax2.axvline(2 * np.pi / dt, color=\"C{0}\".format(i), linestyle=\"dotted\")\n",
    "\n",
    "ax1.plot(tau, kernel.value(tau).eval(), \"--k\", label=\"$t_\\mathrm{exp} = 0$\")\n",
    "ax1.legend(fontsize=10)\n",
    "ax1.set_xlim(tau.min(), tau.max())\n",
    "ax1.set_xlabel(r\"$\\tau$\")\n",
    "ax1.set_ylabel(r\"$k(\\tau)$\")\n",
    "\n",
    "ax2.plot(w, kernel.psd(w).eval(), \"--k\", label=\"$t_\\mathrm{exp} = 0$\")\n",
    "ax2.legend(fontsize=10)\n",
    "ax2.set_ylim(1e-12, 200.0)\n",
    "ax2.set_xlim(w.min(), w.max())\n",
    "ax2.set_xlabel(\"$\\omega$\")\n",
    "ax2.set_ylabel(\"$S(\\omega)$\")\n",
    "\n",
    "plt.tight_layout()\n",
    "\n",
    "fig.savefig(\"celerite-integral.pdf\", bbox_inches=\"tight\")"
   ]
  },
  {
   "cell_type": "code",
   "execution_count": null,
   "metadata": {},
   "outputs": [],
   "source": []
  }
 ],
 "metadata": {
  "kernelspec": {
   "display_name": "Python 3",
   "language": "python",
   "name": "python3"
  },
  "language_info": {
   "codemirror_mode": {
    "name": "ipython",
    "version": 3
   },
   "file_extension": ".py",
   "mimetype": "text/x-python",
   "name": "python",
   "nbconvert_exporter": "python",
   "pygments_lexer": "ipython3",
   "version": "3.6.8"
  }
 },
 "nbformat": 4,
 "nbformat_minor": 2
}
