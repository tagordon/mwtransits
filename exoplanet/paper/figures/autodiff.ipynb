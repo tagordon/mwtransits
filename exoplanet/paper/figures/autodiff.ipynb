{
 "cells": [
  {
   "cell_type": "code",
   "execution_count": null,
   "metadata": {},
   "outputs": [],
   "source": [
    "%matplotlib inline"
   ]
  },
  {
   "cell_type": "code",
   "execution_count": null,
   "metadata": {},
   "outputs": [],
   "source": [
    "%run notebook_setup"
   ]
  },
  {
   "cell_type": "code",
   "execution_count": null,
   "metadata": {},
   "outputs": [],
   "source": [
    "import daft\n",
    "\n",
    "pgm = daft.PGM(node_unit=1.2, grid_unit=2.3, aspect=3)\n",
    "\n",
    "kwargs = dict(offset=(0, -1), fontsize=12)\n",
    "\n",
    "pgm.add_node(\"u1\", r\"$u_1 = x$\", 1, 3, **kwargs)\n",
    "pgm.add_node(\"u2\", r\"$u_2 = y$\", 3, 3, **kwargs)\n",
    "\n",
    "pgm.add_node(\"u3\", r\"$u_3 = \\sin(u_1)$\", 0, 2, **kwargs)\n",
    "pgm.add_node(\"u4\", r\"$u_4 = {u_1}^2$\", 2, 2, **kwargs)\n",
    "pgm.add_node(\"u5\", r\"$u_5 = 2\\,u_2$\", 4, 2, **kwargs)\n",
    "\n",
    "pgm.add_node(\"u6\", r\"$u_6 = u_3\\,u_4$\", 1, 1, **kwargs)\n",
    "pgm.add_node(\"u7\", r\"$u_7 = u_4 + u_5$\", 3, 1, **kwargs)\n",
    "\n",
    "pgm.add_node(\"u8\", r\"$u_8 = \\sqrt{u_7}$\", 3, 0, **kwargs)\n",
    "pgm.add_node(\"u9\", r\"$u_9 = u_8 - u_6$\", 2, -1, **kwargs)\n",
    "\n",
    "pgm.add_edge(\"u1\", \"u3\")\n",
    "pgm.add_edge(\"u1\", \"u4\")\n",
    "pgm.add_edge(\"u2\", \"u5\")\n",
    "pgm.add_edge(\"u3\", \"u6\")\n",
    "pgm.add_edge(\"u4\", \"u6\")\n",
    "pgm.add_edge(\"u4\", \"u7\")\n",
    "pgm.add_edge(\"u5\", \"u7\")\n",
    "pgm.add_edge(\"u6\", \"u9\")\n",
    "pgm.add_edge(\"u7\", \"u8\")\n",
    "pgm.add_edge(\"u8\", \"u9\")\n",
    "\n",
    "pgm.render()\n",
    "pgm.savefig(\"autodiff.pdf\")"
   ]
  },
  {
   "cell_type": "code",
   "execution_count": null,
   "metadata": {},
   "outputs": [],
   "source": []
  }
 ],
 "metadata": {
  "kernelspec": {
   "display_name": "Python 3",
   "language": "python",
   "name": "python3"
  },
  "language_info": {
   "codemirror_mode": {
    "name": "ipython",
    "version": 3
   },
   "file_extension": ".py",
   "mimetype": "text/x-python",
   "name": "python",
   "nbconvert_exporter": "python",
   "pygments_lexer": "ipython3",
   "version": "3.7.5"
  }
 },
 "nbformat": 4,
 "nbformat_minor": 4
}
