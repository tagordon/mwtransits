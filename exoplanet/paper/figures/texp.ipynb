{
 "cells": [
  {
   "cell_type": "code",
   "execution_count": null,
   "metadata": {},
   "outputs": [],
   "source": [
    "%matplotlib inline"
   ]
  },
  {
   "cell_type": "code",
   "execution_count": null,
   "metadata": {},
   "outputs": [],
   "source": [
    "%run notebook_setup"
   ]
  },
  {
   "cell_type": "code",
   "execution_count": null,
   "metadata": {},
   "outputs": [],
   "source": [
    "import numpy as np\n",
    "import matplotlib.pyplot as plt\n",
    "\n",
    "import exoplanet as xo\n",
    "\n",
    "# The light curve calculation requires an orbit\n",
    "orbit = xo.orbits.KeplerianOrbit(period=1, ecc=0.01, omega=0.0)\n",
    "\n",
    "# Compute a limb-darkened light curve using starry\n",
    "texp = 0.02\n",
    "t = np.linspace(0.0, 0.06, 1000)\n",
    "u = [0.3, 0.2]\n",
    "star = xo.LimbDarkLightCurve(u)\n",
    "light_curve_instant = star.get_light_curve(orbit=orbit, r=0.1, t=t).eval()\n",
    "light_curve_exact = star.get_light_curve(\n",
    "    orbit=orbit, r=0.1, t=t, texp=texp, oversample=1000\n",
    ").eval()\n",
    "\n",
    "fig, axes = plt.subplots(4, 1, figsize=(5, 10), sharex=True)\n",
    "\n",
    "ax = axes[0]\n",
    "ax.plot(t, light_curve_instant * 1e3, \":k\")\n",
    "ax.plot(t, light_curve_exact * 1e3, \"k\")\n",
    "ax.set_ylabel(\"relative flux [ppt]\")\n",
    "\n",
    "for n in [3, 7, 15, 51][::-1]:\n",
    "    for order in range(3):\n",
    "        ax = axes[order + 1]\n",
    "        light_curve = star.get_light_curve(\n",
    "            order=order, orbit=orbit, r=0.1, t=t, texp=texp, oversample=n\n",
    "        ).eval()\n",
    "        ax.plot(\n",
    "            t, np.log10(np.abs(light_curve - light_curve_exact)), label=\"{0}\".format(n)\n",
    "        )\n",
    "\n",
    "# integrated = xo.IntegratedLimbDarkLightCurve(u)\n",
    "# ax = axes[-1]\n",
    "# for tol in [-5, -4, -3, -2]:\n",
    "#     light_curve, num_eval = theano.function([], integrated.get_light_curve(\n",
    "#         orbit=orbit, r=0.1, t=t, texp=texp, tol=10**tol, return_num_eval=True))()\n",
    "#     ax.plot(t, np.log10(np.abs(light_curve - light_curve_exact)),\n",
    "#             label=\"$10^{{{0}}},\\,{1:.0f}$\".format(tol, num_eval/len(t)), zorder=-tol)\n",
    "\n",
    "for i, ax in enumerate(axes[1:]):\n",
    "    if i <= 2:\n",
    "        ax.annotate(\n",
    "            \"order = {0}\".format(i),\n",
    "            (0, 1),\n",
    "            xycoords=\"axes fraction\",\n",
    "            ha=\"left\",\n",
    "            va=\"top\",\n",
    "            xytext=(5, -15),\n",
    "            textcoords=\"offset points\",\n",
    "            fontsize=10,\n",
    "        )\n",
    "\n",
    "    for loc, name in [(-3, \"ppt\"), (-6, \"ppm\"), (-9, \"ppb\")]:\n",
    "        ax.axhline(loc, color=\"k\", alpha=0.3, lw=1)\n",
    "        ax.annotate(\n",
    "            name,\n",
    "            (t.max(), loc),\n",
    "            va=\"top\",\n",
    "            ha=\"right\",\n",
    "            xytext=(-3, -2),\n",
    "            textcoords=\"offset points\",\n",
    "            fontsize=10,\n",
    "            alpha=0.3,\n",
    "        )\n",
    "    ax.set_ylim(-11.5, -2.3)\n",
    "    ax.set_ylabel(\"log$_{10}$(flux error)\")\n",
    "    ax.legend(fontsize=9, ncol=4, loc=3)\n",
    "\n",
    "ax.set_xlabel(\"time [days]\")\n",
    "ax.set_xlim(t.min(), t.max())\n",
    "fig.subplots_adjust(hspace=0.0);"
   ]
  },
  {
   "cell_type": "code",
   "execution_count": null,
   "metadata": {},
   "outputs": [],
   "source": []
  }
 ],
 "metadata": {
  "kernelspec": {
   "display_name": "Python 3",
   "language": "python",
   "name": "python3"
  },
  "language_info": {
   "codemirror_mode": {
    "name": "ipython",
    "version": 3
   },
   "file_extension": ".py",
   "mimetype": "text/x-python",
   "name": "python",
   "nbconvert_exporter": "python",
   "pygments_lexer": "ipython3",
   "version": "3.6.8"
  }
 },
 "nbformat": 4,
 "nbformat_minor": 2
}
