{
 "cells": [
  {
   "cell_type": "code",
   "execution_count": 1,
   "metadata": {},
   "outputs": [],
   "source": [
    "from exoplanet import gp\n",
    "import numpy as np\n",
    "import sys \n",
    "import theano\n",
    "from theano import gof\n",
    "import theano.tensor as tt\n",
    "sys.path.append(\"exoplanet/theano_ops/celerite\")\n",
    "from exoplanet.theano_ops.celerite import factor"
   ]
  },
  {
   "cell_type": "code",
   "execution_count": 2,
   "metadata": {},
   "outputs": [],
   "source": [
    "t = np.linspace(-10, 10, 100)\n",
    "k = gp.terms.SHOTerm(log_S0=0, log_w0=0, Q=1/np.sqrt(2))\n",
    "diag = 0.01*np.ones_like(t)\n",
    "a, U, V, P = k.get_celerite_matrices(t, diag)\n",
    "factor_op = factor.FactorOp(J=2)"
   ]
  },
  {
   "cell_type": "code",
   "execution_count": 3,
   "metadata": {},
   "outputs": [],
   "source": [
    "d, W, _, flag = factor_op(a, U, V, P)"
   ]
  },
  {
   "cell_type": "code",
   "execution_count": 4,
   "metadata": {},
   "outputs": [
    {
     "name": "stderr",
     "output_type": "stream",
     "text": [
      "WARNING (theano.gof.compilelock): Overriding existing lock by dead process '26208' (I am process '684')\n",
      "ERROR (theano.gof.opt): Optimization failure due to: constant_folding\n",
      "ERROR (theano.gof.opt): node: FactorOp{J=2, n_rhs=-1}(TensorConstant{(100,) of ..7811865475}, TensorConstant{[[-2.48433..3873e-03]]}, TensorConstant{[[ 0.70534..70886129]]}, TensorConstant{[[0.866884..86688422]]})\n",
      "ERROR (theano.gof.opt): TRACEBACK:\n",
      "ERROR (theano.gof.opt): Traceback (most recent call last):\n",
      "  File \"/Users/tgordon/Library/Python/3.7/lib/python/site-packages/theano/gof/opt.py\", line 2034, in process_node\n",
      "    replacements = lopt.transform(node)\n",
      "  File \"/Users/tgordon/Library/Python/3.7/lib/python/site-packages/theano/tensor/opt.py\", line 6516, in constant_folding\n",
      "    no_recycling=[], impl=impl)\n",
      "  File \"/Users/tgordon/Library/Python/3.7/lib/python/site-packages/theano/gof/op.py\", line 955, in make_thunk\n",
      "    no_recycling)\n",
      "  File \"/Users/tgordon/Library/Python/3.7/lib/python/site-packages/theano/gof/op.py\", line 858, in make_c_thunk\n",
      "    output_storage=node_output_storage)\n",
      "  File \"/Users/tgordon/Library/Python/3.7/lib/python/site-packages/theano/gof/cc.py\", line 1217, in make_thunk\n",
      "    keep_lock=keep_lock)\n",
      "  File \"/Users/tgordon/Library/Python/3.7/lib/python/site-packages/theano/gof/cc.py\", line 1157, in __compile__\n",
      "    keep_lock=keep_lock)\n",
      "  File \"/Users/tgordon/Library/Python/3.7/lib/python/site-packages/theano/gof/cc.py\", line 1624, in cthunk_factory\n",
      "    key=key, lnk=self, keep_lock=keep_lock)\n",
      "  File \"/Users/tgordon/Library/Python/3.7/lib/python/site-packages/theano/gof/cmodule.py\", line 1189, in module_from_key\n",
      "    module = lnk.compile_cmodule(location)\n",
      "  File \"/Users/tgordon/Library/Python/3.7/lib/python/site-packages/theano/gof/cc.py\", line 1527, in compile_cmodule\n",
      "    preargs=preargs)\n",
      "  File \"/Users/tgordon/Library/Python/3.7/lib/python/site-packages/theano/gof/cmodule.py\", line 2396, in compile_str\n",
      "    (status, compile_stderr.replace('\\n', '. ')))\n",
      "Exception: (\"Compilation failed (return status=1): In file included from /Users/tgordon/.theano/compiledir_Darwin-19.0.0-x86_64-i386-64bit-i386-3.7.0-64/tmpk9nuaesm/mod.cpp:7:. /Users/tgordon/research/exoplanet/exoplanet/theano_ops/celerite/include/theano_helpers.h:1:10: fatal error: 'Eigen/Core' file not found. #include <Eigen/Core>.          ^~~~~~~~~~~~. 1 error generated.. \", '[*1 -> FactorOp{J=2, n_rhs=-1}(TensorConstant{(100,) of ..7811865475}, TensorConstant{[[-2.48433..3873e-03]]}, TensorConstant{[[ 0.70534..70886129]]}, TensorConstant{[[0.866884..86688422]]}), *1::1, *1::2, *1::3]')\n",
      "\n"
     ]
    },
    {
     "name": "stdout",
     "output_type": "stream",
     "text": [
      "\n",
      "You can find the C code in this temporary file: /var/folders/_j/f7mw20px6b7dnytjjv21kvxm0000gn/T/theano_compilation_error_o3im9hoq\n"
     ]
    },
    {
     "name": "stderr",
     "output_type": "stream",
     "text": [
      "ERROR (theano.gof.opt): Optimization failure due to: constant_folding\n",
      "ERROR (theano.gof.opt): node: FactorOp{J=2, n_rhs=-1}(TensorConstant{(100,) of ..7811865475}, TensorConstant{[[-2.48433..3873e-03]]}, TensorConstant{[[ 0.70534..70886129]]}, TensorConstant{[[0.866884..86688422]]})\n",
      "ERROR (theano.gof.opt): TRACEBACK:\n",
      "ERROR (theano.gof.opt): Traceback (most recent call last):\n",
      "  File \"/Users/tgordon/Library/Python/3.7/lib/python/site-packages/theano/gof/opt.py\", line 2034, in process_node\n",
      "    replacements = lopt.transform(node)\n",
      "  File \"/Users/tgordon/Library/Python/3.7/lib/python/site-packages/theano/tensor/opt.py\", line 6516, in constant_folding\n",
      "    no_recycling=[], impl=impl)\n",
      "  File \"/Users/tgordon/Library/Python/3.7/lib/python/site-packages/theano/gof/op.py\", line 955, in make_thunk\n",
      "    no_recycling)\n",
      "  File \"/Users/tgordon/Library/Python/3.7/lib/python/site-packages/theano/gof/op.py\", line 858, in make_c_thunk\n",
      "    output_storage=node_output_storage)\n",
      "  File \"/Users/tgordon/Library/Python/3.7/lib/python/site-packages/theano/gof/cc.py\", line 1217, in make_thunk\n",
      "    keep_lock=keep_lock)\n",
      "  File \"/Users/tgordon/Library/Python/3.7/lib/python/site-packages/theano/gof/cc.py\", line 1157, in __compile__\n",
      "    keep_lock=keep_lock)\n",
      "  File \"/Users/tgordon/Library/Python/3.7/lib/python/site-packages/theano/gof/cc.py\", line 1624, in cthunk_factory\n",
      "    key=key, lnk=self, keep_lock=keep_lock)\n",
      "  File \"/Users/tgordon/Library/Python/3.7/lib/python/site-packages/theano/gof/cmodule.py\", line 1189, in module_from_key\n",
      "    module = lnk.compile_cmodule(location)\n",
      "  File \"/Users/tgordon/Library/Python/3.7/lib/python/site-packages/theano/gof/cc.py\", line 1527, in compile_cmodule\n",
      "    preargs=preargs)\n",
      "  File \"/Users/tgordon/Library/Python/3.7/lib/python/site-packages/theano/gof/cmodule.py\", line 2396, in compile_str\n",
      "    (status, compile_stderr.replace('\\n', '. ')))\n",
      "Exception: (\"Compilation failed (return status=1): In file included from /Users/tgordon/.theano/compiledir_Darwin-19.0.0-x86_64-i386-64bit-i386-3.7.0-64/tmpmb710omc/mod.cpp:7:. /Users/tgordon/research/exoplanet/exoplanet/theano_ops/celerite/include/theano_helpers.h:1:10: fatal error: 'Eigen/Core' file not found. #include <Eigen/Core>.          ^~~~~~~~~~~~. 1 error generated.. \", '[*1 -> FactorOp{J=2, n_rhs=-1}(TensorConstant{(100,) of ..7811865475}, TensorConstant{[[-2.48433..3873e-03]]}, TensorConstant{[[ 0.70534..70886129]]}, TensorConstant{[[0.866884..86688422]]}), *1::1, *1::2, *1::3]')\n",
      "\n"
     ]
    },
    {
     "name": "stdout",
     "output_type": "stream",
     "text": [
      "\n",
      "You can find the C code in this temporary file: /var/folders/_j/f7mw20px6b7dnytjjv21kvxm0000gn/T/theano_compilation_error_tmur1rw6\n"
     ]
    },
    {
     "name": "stderr",
     "output_type": "stream",
     "text": [
      "ERROR (theano.gof.opt): Optimization failure due to: constant_folding\n",
      "ERROR (theano.gof.opt): node: FactorOp{J=2, n_rhs=-1}(TensorConstant{(100,) of ..7811865475}, TensorConstant{[[-2.48433..3873e-03]]}, TensorConstant{[[ 0.70534..70886129]]}, TensorConstant{[[0.866884..86688422]]})\n",
      "ERROR (theano.gof.opt): TRACEBACK:\n",
      "ERROR (theano.gof.opt): Traceback (most recent call last):\n",
      "  File \"/Users/tgordon/Library/Python/3.7/lib/python/site-packages/theano/gof/opt.py\", line 2034, in process_node\n",
      "    replacements = lopt.transform(node)\n",
      "  File \"/Users/tgordon/Library/Python/3.7/lib/python/site-packages/theano/tensor/opt.py\", line 6516, in constant_folding\n",
      "    no_recycling=[], impl=impl)\n",
      "  File \"/Users/tgordon/Library/Python/3.7/lib/python/site-packages/theano/gof/op.py\", line 955, in make_thunk\n",
      "    no_recycling)\n",
      "  File \"/Users/tgordon/Library/Python/3.7/lib/python/site-packages/theano/gof/op.py\", line 858, in make_c_thunk\n",
      "    output_storage=node_output_storage)\n",
      "  File \"/Users/tgordon/Library/Python/3.7/lib/python/site-packages/theano/gof/cc.py\", line 1217, in make_thunk\n",
      "    keep_lock=keep_lock)\n",
      "  File \"/Users/tgordon/Library/Python/3.7/lib/python/site-packages/theano/gof/cc.py\", line 1157, in __compile__\n",
      "    keep_lock=keep_lock)\n",
      "  File \"/Users/tgordon/Library/Python/3.7/lib/python/site-packages/theano/gof/cc.py\", line 1624, in cthunk_factory\n",
      "    key=key, lnk=self, keep_lock=keep_lock)\n",
      "  File \"/Users/tgordon/Library/Python/3.7/lib/python/site-packages/theano/gof/cmodule.py\", line 1189, in module_from_key\n",
      "    module = lnk.compile_cmodule(location)\n",
      "  File \"/Users/tgordon/Library/Python/3.7/lib/python/site-packages/theano/gof/cc.py\", line 1527, in compile_cmodule\n",
      "    preargs=preargs)\n",
      "  File \"/Users/tgordon/Library/Python/3.7/lib/python/site-packages/theano/gof/cmodule.py\", line 2396, in compile_str\n",
      "    (status, compile_stderr.replace('\\n', '. ')))\n",
      "Exception: (\"Compilation failed (return status=1): In file included from /Users/tgordon/.theano/compiledir_Darwin-19.0.0-x86_64-i386-64bit-i386-3.7.0-64/tmp15t0clf4/mod.cpp:7:. /Users/tgordon/research/exoplanet/exoplanet/theano_ops/celerite/include/theano_helpers.h:1:10: fatal error: 'Eigen/Core' file not found. #include <Eigen/Core>.          ^~~~~~~~~~~~. 1 error generated.. \", '[*1 -> FactorOp{J=2, n_rhs=-1}(TensorConstant{(100,) of ..7811865475}, TensorConstant{[[-2.48433..3873e-03]]}, TensorConstant{[[ 0.70534..70886129]]}, TensorConstant{[[0.866884..86688422]]}), *1::1, *1::2, *1::3]')\n",
      "\n"
     ]
    },
    {
     "name": "stdout",
     "output_type": "stream",
     "text": [
      "\n",
      "You can find the C code in this temporary file: /var/folders/_j/f7mw20px6b7dnytjjv21kvxm0000gn/T/theano_compilation_error_tjabtbns\n"
     ]
    },
    {
     "name": "stderr",
     "output_type": "stream",
     "text": [
      "ERROR (theano.gof.opt): Optimization failure due to: constant_folding\n",
      "ERROR (theano.gof.opt): node: FactorOp{J=2, n_rhs=-1}(TensorConstant{(100,) of ..7811865475}, TensorConstant{[[-2.48433..3873e-03]]}, TensorConstant{[[ 0.70534..70886129]]}, TensorConstant{[[0.866884..86688422]]})\n",
      "ERROR (theano.gof.opt): TRACEBACK:\n",
      "ERROR (theano.gof.opt): Traceback (most recent call last):\n",
      "  File \"/Users/tgordon/Library/Python/3.7/lib/python/site-packages/theano/gof/opt.py\", line 2034, in process_node\n",
      "    replacements = lopt.transform(node)\n",
      "  File \"/Users/tgordon/Library/Python/3.7/lib/python/site-packages/theano/tensor/opt.py\", line 6516, in constant_folding\n",
      "    no_recycling=[], impl=impl)\n",
      "  File \"/Users/tgordon/Library/Python/3.7/lib/python/site-packages/theano/gof/op.py\", line 955, in make_thunk\n",
      "    no_recycling)\n",
      "  File \"/Users/tgordon/Library/Python/3.7/lib/python/site-packages/theano/gof/op.py\", line 858, in make_c_thunk\n",
      "    output_storage=node_output_storage)\n",
      "  File \"/Users/tgordon/Library/Python/3.7/lib/python/site-packages/theano/gof/cc.py\", line 1217, in make_thunk\n",
      "    keep_lock=keep_lock)\n",
      "  File \"/Users/tgordon/Library/Python/3.7/lib/python/site-packages/theano/gof/cc.py\", line 1157, in __compile__\n",
      "    keep_lock=keep_lock)\n",
      "  File \"/Users/tgordon/Library/Python/3.7/lib/python/site-packages/theano/gof/cc.py\", line 1624, in cthunk_factory\n",
      "    key=key, lnk=self, keep_lock=keep_lock)\n",
      "  File \"/Users/tgordon/Library/Python/3.7/lib/python/site-packages/theano/gof/cmodule.py\", line 1189, in module_from_key\n",
      "    module = lnk.compile_cmodule(location)\n",
      "  File \"/Users/tgordon/Library/Python/3.7/lib/python/site-packages/theano/gof/cc.py\", line 1527, in compile_cmodule\n",
      "    preargs=preargs)\n",
      "  File \"/Users/tgordon/Library/Python/3.7/lib/python/site-packages/theano/gof/cmodule.py\", line 2396, in compile_str\n",
      "    (status, compile_stderr.replace('\\n', '. ')))\n",
      "Exception: (\"Compilation failed (return status=1): In file included from /Users/tgordon/.theano/compiledir_Darwin-19.0.0-x86_64-i386-64bit-i386-3.7.0-64/tmpvaoba3eu/mod.cpp:7:. /Users/tgordon/research/exoplanet/exoplanet/theano_ops/celerite/include/theano_helpers.h:1:10: fatal error: 'Eigen/Core' file not found. #include <Eigen/Core>.          ^~~~~~~~~~~~. 1 error generated.. \", '[*1 -> FactorOp{J=2, n_rhs=-1}(TensorConstant{(100,) of ..7811865475}, TensorConstant{[[-2.48433..3873e-03]]}, TensorConstant{[[ 0.70534..70886129]]}, TensorConstant{[[0.866884..86688422]]}), *1::1, *1::2, *1::3]')\n",
      "\n"
     ]
    },
    {
     "name": "stdout",
     "output_type": "stream",
     "text": [
      "\n",
      "You can find the C code in this temporary file: /var/folders/_j/f7mw20px6b7dnytjjv21kvxm0000gn/T/theano_compilation_error_nffe8ih_\n"
     ]
    },
    {
     "name": "stderr",
     "output_type": "stream",
     "text": [
      "ERROR (theano.gof.opt): Optimization failure due to: constant_folding\n",
      "ERROR (theano.gof.opt): node: FactorOp{J=2, n_rhs=-1}(TensorConstant{(100,) of ..7811865475}, TensorConstant{[[-2.48433..3873e-03]]}, TensorConstant{[[ 0.70534..70886129]]}, TensorConstant{[[0.866884..86688422]]})\n",
      "ERROR (theano.gof.opt): TRACEBACK:\n",
      "ERROR (theano.gof.opt): Traceback (most recent call last):\n",
      "  File \"/Users/tgordon/Library/Python/3.7/lib/python/site-packages/theano/gof/opt.py\", line 2034, in process_node\n",
      "    replacements = lopt.transform(node)\n",
      "  File \"/Users/tgordon/Library/Python/3.7/lib/python/site-packages/theano/tensor/opt.py\", line 6516, in constant_folding\n",
      "    no_recycling=[], impl=impl)\n",
      "  File \"/Users/tgordon/Library/Python/3.7/lib/python/site-packages/theano/gof/op.py\", line 955, in make_thunk\n",
      "    no_recycling)\n",
      "  File \"/Users/tgordon/Library/Python/3.7/lib/python/site-packages/theano/gof/op.py\", line 858, in make_c_thunk\n",
      "    output_storage=node_output_storage)\n",
      "  File \"/Users/tgordon/Library/Python/3.7/lib/python/site-packages/theano/gof/cc.py\", line 1217, in make_thunk\n",
      "    keep_lock=keep_lock)\n",
      "  File \"/Users/tgordon/Library/Python/3.7/lib/python/site-packages/theano/gof/cc.py\", line 1157, in __compile__\n",
      "    keep_lock=keep_lock)\n",
      "  File \"/Users/tgordon/Library/Python/3.7/lib/python/site-packages/theano/gof/cc.py\", line 1624, in cthunk_factory\n",
      "    key=key, lnk=self, keep_lock=keep_lock)\n",
      "  File \"/Users/tgordon/Library/Python/3.7/lib/python/site-packages/theano/gof/cmodule.py\", line 1189, in module_from_key\n",
      "    module = lnk.compile_cmodule(location)\n",
      "  File \"/Users/tgordon/Library/Python/3.7/lib/python/site-packages/theano/gof/cc.py\", line 1527, in compile_cmodule\n",
      "    preargs=preargs)\n",
      "  File \"/Users/tgordon/Library/Python/3.7/lib/python/site-packages/theano/gof/cmodule.py\", line 2396, in compile_str\n",
      "    (status, compile_stderr.replace('\\n', '. ')))\n",
      "Exception: (\"Compilation failed (return status=1): In file included from /Users/tgordon/.theano/compiledir_Darwin-19.0.0-x86_64-i386-64bit-i386-3.7.0-64/tmp7qho0iyp/mod.cpp:7:. /Users/tgordon/research/exoplanet/exoplanet/theano_ops/celerite/include/theano_helpers.h:1:10: fatal error: 'Eigen/Core' file not found. #include <Eigen/Core>.          ^~~~~~~~~~~~. 1 error generated.. \", '[*1 -> FactorOp{J=2, n_rhs=-1}(TensorConstant{(100,) of ..7811865475}, TensorConstant{[[-2.48433..3873e-03]]}, TensorConstant{[[ 0.70534..70886129]]}, TensorConstant{[[0.866884..86688422]]}), *1::1, *1::2, *1::3]')\n",
      "\n"
     ]
    },
    {
     "name": "stdout",
     "output_type": "stream",
     "text": [
      "\n",
      "You can find the C code in this temporary file: /var/folders/_j/f7mw20px6b7dnytjjv21kvxm0000gn/T/theano_compilation_error__zxp5ryc\n"
     ]
    },
    {
     "name": "stderr",
     "output_type": "stream",
     "text": [
      "ERROR (theano.gof.opt): Optimization failure due to: constant_folding\n",
      "ERROR (theano.gof.opt): node: FactorOp{J=2, n_rhs=-1}(TensorConstant{(100,) of ..7811865475}, TensorConstant{[[-2.48433..3873e-03]]}, TensorConstant{[[ 0.70534..70886129]]}, TensorConstant{[[0.866884..86688422]]})\n",
      "ERROR (theano.gof.opt): TRACEBACK:\n",
      "ERROR (theano.gof.opt): Traceback (most recent call last):\n",
      "  File \"/Users/tgordon/Library/Python/3.7/lib/python/site-packages/theano/gof/opt.py\", line 2034, in process_node\n",
      "    replacements = lopt.transform(node)\n",
      "  File \"/Users/tgordon/Library/Python/3.7/lib/python/site-packages/theano/tensor/opt.py\", line 6516, in constant_folding\n",
      "    no_recycling=[], impl=impl)\n",
      "  File \"/Users/tgordon/Library/Python/3.7/lib/python/site-packages/theano/gof/op.py\", line 955, in make_thunk\n",
      "    no_recycling)\n",
      "  File \"/Users/tgordon/Library/Python/3.7/lib/python/site-packages/theano/gof/op.py\", line 858, in make_c_thunk\n",
      "    output_storage=node_output_storage)\n",
      "  File \"/Users/tgordon/Library/Python/3.7/lib/python/site-packages/theano/gof/cc.py\", line 1217, in make_thunk\n",
      "    keep_lock=keep_lock)\n",
      "  File \"/Users/tgordon/Library/Python/3.7/lib/python/site-packages/theano/gof/cc.py\", line 1157, in __compile__\n",
      "    keep_lock=keep_lock)\n",
      "  File \"/Users/tgordon/Library/Python/3.7/lib/python/site-packages/theano/gof/cc.py\", line 1624, in cthunk_factory\n",
      "    key=key, lnk=self, keep_lock=keep_lock)\n",
      "  File \"/Users/tgordon/Library/Python/3.7/lib/python/site-packages/theano/gof/cmodule.py\", line 1189, in module_from_key\n",
      "    module = lnk.compile_cmodule(location)\n",
      "  File \"/Users/tgordon/Library/Python/3.7/lib/python/site-packages/theano/gof/cc.py\", line 1527, in compile_cmodule\n",
      "    preargs=preargs)\n",
      "  File \"/Users/tgordon/Library/Python/3.7/lib/python/site-packages/theano/gof/cmodule.py\", line 2396, in compile_str\n",
      "    (status, compile_stderr.replace('\\n', '. ')))\n",
      "Exception: (\"Compilation failed (return status=1): In file included from /Users/tgordon/.theano/compiledir_Darwin-19.0.0-x86_64-i386-64bit-i386-3.7.0-64/tmpq2ggahyi/mod.cpp:7:. /Users/tgordon/research/exoplanet/exoplanet/theano_ops/celerite/include/theano_helpers.h:1:10: fatal error: 'Eigen/Core' file not found. #include <Eigen/Core>.          ^~~~~~~~~~~~. 1 error generated.. \", '[*1 -> FactorOp{J=2, n_rhs=-1}(TensorConstant{(100,) of ..7811865475}, TensorConstant{[[-2.48433..3873e-03]]}, TensorConstant{[[ 0.70534..70886129]]}, TensorConstant{[[0.866884..86688422]]}), *1::1, *1::2, *1::3]')\n",
      "\n"
     ]
    },
    {
     "name": "stdout",
     "output_type": "stream",
     "text": [
      "\n",
      "You can find the C code in this temporary file: /var/folders/_j/f7mw20px6b7dnytjjv21kvxm0000gn/T/theano_compilation_error_s36lar_c\n",
      "\n",
      "You can find the C code in this temporary file: /var/folders/_j/f7mw20px6b7dnytjjv21kvxm0000gn/T/theano_compilation_error_skpnlooc\n"
     ]
    },
    {
     "ename": "Exception",
     "evalue": "('The following error happened while compiling the node', FactorOp{J=2, n_rhs=-1}(TensorConstant{(100,) of ..7811865475}, TensorConstant{[[-2.48433..3873e-03]]}, TensorConstant{[[ 0.70534..70886129]]}, TensorConstant{[[0.866884..86688422]]}), '\\n', \"Compilation failed (return status=1): In file included from /Users/tgordon/.theano/compiledir_Darwin-19.0.0-x86_64-i386-64bit-i386-3.7.0-64/tmp2ns4484r/mod.cpp:7:. /Users/tgordon/research/exoplanet/exoplanet/theano_ops/celerite/include/theano_helpers.h:1:10: fatal error: 'Eigen/Core' file not found. #include <Eigen/Core>.          ^~~~~~~~~~~~. 1 error generated.. \", '[*1 -> FactorOp{J=2, n_rhs=-1}(TensorConstant{(100,) of ..7811865475}, TensorConstant{[[-2.48433..3873e-03]]}, TensorConstant{[[ 0.70534..70886129]]}, TensorConstant{[[0.866884..86688422]]}), *1::1, *1::2, *1::3]')",
     "output_type": "error",
     "traceback": [
      "\u001b[0;31m---------------------------------------------------------------------------\u001b[0m",
      "\u001b[0;31mException\u001b[0m                                 Traceback (most recent call last)",
      "\u001b[0;32m<ipython-input-4-eda4e0c4db5a>\u001b[0m in \u001b[0;36m<module>\u001b[0;34m()\u001b[0m\n\u001b[0;32m----> 1\u001b[0;31m \u001b[0md\u001b[0m\u001b[0;34m.\u001b[0m\u001b[0meval\u001b[0m\u001b[0;34m(\u001b[0m\u001b[0;34m)\u001b[0m\u001b[0;34m\u001b[0m\u001b[0m\n\u001b[0m",
      "\u001b[0;32m~/Library/Python/3.7/lib/python/site-packages/theano/gof/graph.py\u001b[0m in \u001b[0;36meval\u001b[0;34m(self, inputs_to_values)\u001b[0m\n\u001b[1;32m    520\u001b[0m         \u001b[0minputs\u001b[0m \u001b[0;34m=\u001b[0m \u001b[0mtuple\u001b[0m\u001b[0;34m(\u001b[0m\u001b[0msorted\u001b[0m\u001b[0;34m(\u001b[0m\u001b[0minputs_to_values\u001b[0m\u001b[0;34m.\u001b[0m\u001b[0mkeys\u001b[0m\u001b[0;34m(\u001b[0m\u001b[0;34m)\u001b[0m\u001b[0;34m,\u001b[0m \u001b[0mkey\u001b[0m\u001b[0;34m=\u001b[0m\u001b[0mid\u001b[0m\u001b[0;34m)\u001b[0m\u001b[0;34m)\u001b[0m\u001b[0;34m\u001b[0m\u001b[0m\n\u001b[1;32m    521\u001b[0m         \u001b[0;32mif\u001b[0m \u001b[0minputs\u001b[0m \u001b[0;32mnot\u001b[0m \u001b[0;32min\u001b[0m \u001b[0mself\u001b[0m\u001b[0;34m.\u001b[0m\u001b[0m_fn_cache\u001b[0m\u001b[0;34m:\u001b[0m\u001b[0;34m\u001b[0m\u001b[0m\n\u001b[0;32m--> 522\u001b[0;31m             \u001b[0mself\u001b[0m\u001b[0;34m.\u001b[0m\u001b[0m_fn_cache\u001b[0m\u001b[0;34m[\u001b[0m\u001b[0minputs\u001b[0m\u001b[0;34m]\u001b[0m \u001b[0;34m=\u001b[0m \u001b[0mtheano\u001b[0m\u001b[0;34m.\u001b[0m\u001b[0mfunction\u001b[0m\u001b[0;34m(\u001b[0m\u001b[0minputs\u001b[0m\u001b[0;34m,\u001b[0m \u001b[0mself\u001b[0m\u001b[0;34m)\u001b[0m\u001b[0;34m\u001b[0m\u001b[0m\n\u001b[0m\u001b[1;32m    523\u001b[0m         \u001b[0margs\u001b[0m \u001b[0;34m=\u001b[0m \u001b[0;34m[\u001b[0m\u001b[0minputs_to_values\u001b[0m\u001b[0;34m[\u001b[0m\u001b[0mparam\u001b[0m\u001b[0;34m]\u001b[0m \u001b[0;32mfor\u001b[0m \u001b[0mparam\u001b[0m \u001b[0;32min\u001b[0m \u001b[0minputs\u001b[0m\u001b[0;34m]\u001b[0m\u001b[0;34m\u001b[0m\u001b[0m\n\u001b[1;32m    524\u001b[0m \u001b[0;34m\u001b[0m\u001b[0m\n",
      "\u001b[0;32m~/Library/Python/3.7/lib/python/site-packages/theano/compile/function.py\u001b[0m in \u001b[0;36mfunction\u001b[0;34m(inputs, outputs, mode, updates, givens, no_default_updates, accept_inplace, name, rebuild_strict, allow_input_downcast, profile, on_unused_input)\u001b[0m\n\u001b[1;32m    315\u001b[0m                    \u001b[0mon_unused_input\u001b[0m\u001b[0;34m=\u001b[0m\u001b[0mon_unused_input\u001b[0m\u001b[0;34m,\u001b[0m\u001b[0;34m\u001b[0m\u001b[0m\n\u001b[1;32m    316\u001b[0m                    \u001b[0mprofile\u001b[0m\u001b[0;34m=\u001b[0m\u001b[0mprofile\u001b[0m\u001b[0;34m,\u001b[0m\u001b[0;34m\u001b[0m\u001b[0m\n\u001b[0;32m--> 317\u001b[0;31m                    output_keys=output_keys)\n\u001b[0m\u001b[1;32m    318\u001b[0m     \u001b[0;32mreturn\u001b[0m \u001b[0mfn\u001b[0m\u001b[0;34m\u001b[0m\u001b[0m\n",
      "\u001b[0;32m~/Library/Python/3.7/lib/python/site-packages/theano/compile/pfunc.py\u001b[0m in \u001b[0;36mpfunc\u001b[0;34m(params, outputs, mode, updates, givens, no_default_updates, accept_inplace, name, rebuild_strict, allow_input_downcast, profile, on_unused_input, output_keys)\u001b[0m\n\u001b[1;32m    484\u001b[0m                          \u001b[0maccept_inplace\u001b[0m\u001b[0;34m=\u001b[0m\u001b[0maccept_inplace\u001b[0m\u001b[0;34m,\u001b[0m \u001b[0mname\u001b[0m\u001b[0;34m=\u001b[0m\u001b[0mname\u001b[0m\u001b[0;34m,\u001b[0m\u001b[0;34m\u001b[0m\u001b[0m\n\u001b[1;32m    485\u001b[0m                          \u001b[0mprofile\u001b[0m\u001b[0;34m=\u001b[0m\u001b[0mprofile\u001b[0m\u001b[0;34m,\u001b[0m \u001b[0mon_unused_input\u001b[0m\u001b[0;34m=\u001b[0m\u001b[0mon_unused_input\u001b[0m\u001b[0;34m,\u001b[0m\u001b[0;34m\u001b[0m\u001b[0m\n\u001b[0;32m--> 486\u001b[0;31m                          output_keys=output_keys)\n\u001b[0m\u001b[1;32m    487\u001b[0m \u001b[0;34m\u001b[0m\u001b[0m\n\u001b[1;32m    488\u001b[0m \u001b[0;34m\u001b[0m\u001b[0m\n",
      "\u001b[0;32m~/Library/Python/3.7/lib/python/site-packages/theano/compile/function_module.py\u001b[0m in \u001b[0;36morig_function\u001b[0;34m(inputs, outputs, mode, accept_inplace, name, profile, on_unused_input, output_keys)\u001b[0m\n\u001b[1;32m   1839\u001b[0m                   name=name)\n\u001b[1;32m   1840\u001b[0m         \u001b[0;32mwith\u001b[0m \u001b[0mtheano\u001b[0m\u001b[0;34m.\u001b[0m\u001b[0mchange_flags\u001b[0m\u001b[0;34m(\u001b[0m\u001b[0mcompute_test_value\u001b[0m\u001b[0;34m=\u001b[0m\u001b[0;34m\"off\"\u001b[0m\u001b[0;34m)\u001b[0m\u001b[0;34m:\u001b[0m\u001b[0;34m\u001b[0m\u001b[0m\n\u001b[0;32m-> 1841\u001b[0;31m             \u001b[0mfn\u001b[0m \u001b[0;34m=\u001b[0m \u001b[0mm\u001b[0m\u001b[0;34m.\u001b[0m\u001b[0mcreate\u001b[0m\u001b[0;34m(\u001b[0m\u001b[0mdefaults\u001b[0m\u001b[0;34m)\u001b[0m\u001b[0;34m\u001b[0m\u001b[0m\n\u001b[0m\u001b[1;32m   1842\u001b[0m     \u001b[0;32mfinally\u001b[0m\u001b[0;34m:\u001b[0m\u001b[0;34m\u001b[0m\u001b[0m\n\u001b[1;32m   1843\u001b[0m         \u001b[0mt2\u001b[0m \u001b[0;34m=\u001b[0m \u001b[0mtime\u001b[0m\u001b[0;34m.\u001b[0m\u001b[0mtime\u001b[0m\u001b[0;34m(\u001b[0m\u001b[0;34m)\u001b[0m\u001b[0;34m\u001b[0m\u001b[0m\n",
      "\u001b[0;32m~/Library/Python/3.7/lib/python/site-packages/theano/compile/function_module.py\u001b[0m in \u001b[0;36mcreate\u001b[0;34m(self, input_storage, trustme, storage_map)\u001b[0m\n\u001b[1;32m   1713\u001b[0m             \u001b[0mtheano\u001b[0m\u001b[0;34m.\u001b[0m\u001b[0mconfig\u001b[0m\u001b[0;34m.\u001b[0m\u001b[0mtraceback\u001b[0m\u001b[0;34m.\u001b[0m\u001b[0mlimit\u001b[0m \u001b[0;34m=\u001b[0m \u001b[0mtheano\u001b[0m\u001b[0;34m.\u001b[0m\u001b[0mconfig\u001b[0m\u001b[0;34m.\u001b[0m\u001b[0mtraceback\u001b[0m\u001b[0;34m.\u001b[0m\u001b[0mcompile_limit\u001b[0m\u001b[0;34m\u001b[0m\u001b[0m\n\u001b[1;32m   1714\u001b[0m             _fn, _i, _o = self.linker.make_thunk(\n\u001b[0;32m-> 1715\u001b[0;31m                 input_storage=input_storage_lists, storage_map=storage_map)\n\u001b[0m\u001b[1;32m   1716\u001b[0m         \u001b[0;32mfinally\u001b[0m\u001b[0;34m:\u001b[0m\u001b[0;34m\u001b[0m\u001b[0m\n\u001b[1;32m   1717\u001b[0m             \u001b[0mtheano\u001b[0m\u001b[0;34m.\u001b[0m\u001b[0mconfig\u001b[0m\u001b[0;34m.\u001b[0m\u001b[0mtraceback\u001b[0m\u001b[0;34m.\u001b[0m\u001b[0mlimit\u001b[0m \u001b[0;34m=\u001b[0m \u001b[0mlimit_orig\u001b[0m\u001b[0;34m\u001b[0m\u001b[0m\n",
      "\u001b[0;32m~/Library/Python/3.7/lib/python/site-packages/theano/gof/link.py\u001b[0m in \u001b[0;36mmake_thunk\u001b[0;34m(self, input_storage, output_storage, storage_map)\u001b[0m\n\u001b[1;32m    697\u001b[0m         return self.make_all(input_storage=input_storage,\n\u001b[1;32m    698\u001b[0m                              \u001b[0moutput_storage\u001b[0m\u001b[0;34m=\u001b[0m\u001b[0moutput_storage\u001b[0m\u001b[0;34m,\u001b[0m\u001b[0;34m\u001b[0m\u001b[0m\n\u001b[0;32m--> 699\u001b[0;31m                              storage_map=storage_map)[:3]\n\u001b[0m\u001b[1;32m    700\u001b[0m \u001b[0;34m\u001b[0m\u001b[0m\n\u001b[1;32m    701\u001b[0m     \u001b[0;32mdef\u001b[0m \u001b[0mmake_all\u001b[0m\u001b[0;34m(\u001b[0m\u001b[0mself\u001b[0m\u001b[0;34m,\u001b[0m \u001b[0minput_storage\u001b[0m\u001b[0;34m,\u001b[0m \u001b[0moutput_storage\u001b[0m\u001b[0;34m)\u001b[0m\u001b[0;34m:\u001b[0m\u001b[0;34m\u001b[0m\u001b[0m\n",
      "\u001b[0;32m~/Library/Python/3.7/lib/python/site-packages/theano/gof/vm.py\u001b[0m in \u001b[0;36mmake_all\u001b[0;34m(self, profiler, input_storage, output_storage, storage_map)\u001b[0m\n\u001b[1;32m   1089\u001b[0m                                                  \u001b[0mcompute_map\u001b[0m\u001b[0;34m,\u001b[0m\u001b[0;34m\u001b[0m\u001b[0m\n\u001b[1;32m   1090\u001b[0m                                                  \u001b[0;34m[\u001b[0m\u001b[0;34m]\u001b[0m\u001b[0;34m,\u001b[0m\u001b[0;34m\u001b[0m\u001b[0m\n\u001b[0;32m-> 1091\u001b[0;31m                                                  impl=impl))\n\u001b[0m\u001b[1;32m   1092\u001b[0m                 \u001b[0mlinker_make_thunk_time\u001b[0m\u001b[0;34m[\u001b[0m\u001b[0mnode\u001b[0m\u001b[0;34m]\u001b[0m \u001b[0;34m=\u001b[0m \u001b[0mtime\u001b[0m\u001b[0;34m.\u001b[0m\u001b[0mtime\u001b[0m\u001b[0;34m(\u001b[0m\u001b[0;34m)\u001b[0m \u001b[0;34m-\u001b[0m \u001b[0mthunk_start\u001b[0m\u001b[0;34m\u001b[0m\u001b[0m\n\u001b[1;32m   1093\u001b[0m                 \u001b[0;32mif\u001b[0m \u001b[0;32mnot\u001b[0m \u001b[0mhasattr\u001b[0m\u001b[0;34m(\u001b[0m\u001b[0mthunks\u001b[0m\u001b[0;34m[\u001b[0m\u001b[0;34m-\u001b[0m\u001b[0;36m1\u001b[0m\u001b[0;34m]\u001b[0m\u001b[0;34m,\u001b[0m \u001b[0;34m'lazy'\u001b[0m\u001b[0;34m)\u001b[0m\u001b[0;34m:\u001b[0m\u001b[0;34m\u001b[0m\u001b[0m\n",
      "\u001b[0;32m~/Library/Python/3.7/lib/python/site-packages/theano/gof/op.py\u001b[0m in \u001b[0;36mmake_thunk\u001b[0;34m(self, node, storage_map, compute_map, no_recycling, impl)\u001b[0m\n\u001b[1;32m    953\u001b[0m             \u001b[0;32mtry\u001b[0m\u001b[0;34m:\u001b[0m\u001b[0;34m\u001b[0m\u001b[0m\n\u001b[1;32m    954\u001b[0m                 return self.make_c_thunk(node, storage_map, compute_map,\n\u001b[0;32m--> 955\u001b[0;31m                                          no_recycling)\n\u001b[0m\u001b[1;32m    956\u001b[0m             \u001b[0;32mexcept\u001b[0m \u001b[0;34m(\u001b[0m\u001b[0mNotImplementedError\u001b[0m\u001b[0;34m,\u001b[0m \u001b[0mutils\u001b[0m\u001b[0;34m.\u001b[0m\u001b[0mMethodNotDefined\u001b[0m\u001b[0;34m)\u001b[0m\u001b[0;34m:\u001b[0m\u001b[0;34m\u001b[0m\u001b[0m\n\u001b[1;32m    957\u001b[0m                 \u001b[0;31m# We requested the c code, so don't catch the error.\u001b[0m\u001b[0;34m\u001b[0m\u001b[0;34m\u001b[0m\u001b[0m\n",
      "\u001b[0;32m~/Library/Python/3.7/lib/python/site-packages/theano/gof/op.py\u001b[0m in \u001b[0;36mmake_c_thunk\u001b[0;34m(self, node, storage_map, compute_map, no_recycling)\u001b[0m\n\u001b[1;32m    856\u001b[0m         \u001b[0m_logger\u001b[0m\u001b[0;34m.\u001b[0m\u001b[0mdebug\u001b[0m\u001b[0;34m(\u001b[0m\u001b[0;34m'Trying CLinker.make_thunk'\u001b[0m\u001b[0;34m)\u001b[0m\u001b[0;34m\u001b[0m\u001b[0m\n\u001b[1;32m    857\u001b[0m         outputs = cl.make_thunk(input_storage=node_input_storage,\n\u001b[0;32m--> 858\u001b[0;31m                                 output_storage=node_output_storage)\n\u001b[0m\u001b[1;32m    859\u001b[0m         \u001b[0mthunk\u001b[0m\u001b[0;34m,\u001b[0m \u001b[0mnode_input_filters\u001b[0m\u001b[0;34m,\u001b[0m \u001b[0mnode_output_filters\u001b[0m \u001b[0;34m=\u001b[0m \u001b[0moutputs\u001b[0m\u001b[0;34m\u001b[0m\u001b[0m\n\u001b[1;32m    860\u001b[0m \u001b[0;34m\u001b[0m\u001b[0m\n",
      "\u001b[0;32m~/Library/Python/3.7/lib/python/site-packages/theano/gof/cc.py\u001b[0m in \u001b[0;36mmake_thunk\u001b[0;34m(self, input_storage, output_storage, storage_map, keep_lock)\u001b[0m\n\u001b[1;32m   1215\u001b[0m         cthunk, module, in_storage, out_storage, error_storage = self.__compile__(\n\u001b[1;32m   1216\u001b[0m             \u001b[0minput_storage\u001b[0m\u001b[0;34m,\u001b[0m \u001b[0moutput_storage\u001b[0m\u001b[0;34m,\u001b[0m \u001b[0mstorage_map\u001b[0m\u001b[0;34m,\u001b[0m\u001b[0;34m\u001b[0m\u001b[0m\n\u001b[0;32m-> 1217\u001b[0;31m             keep_lock=keep_lock)\n\u001b[0m\u001b[1;32m   1218\u001b[0m \u001b[0;34m\u001b[0m\u001b[0m\n\u001b[1;32m   1219\u001b[0m         \u001b[0mres\u001b[0m \u001b[0;34m=\u001b[0m \u001b[0m_CThunk\u001b[0m\u001b[0;34m(\u001b[0m\u001b[0mcthunk\u001b[0m\u001b[0;34m,\u001b[0m \u001b[0minit_tasks\u001b[0m\u001b[0;34m,\u001b[0m \u001b[0mtasks\u001b[0m\u001b[0;34m,\u001b[0m \u001b[0merror_storage\u001b[0m\u001b[0;34m,\u001b[0m \u001b[0mmodule\u001b[0m\u001b[0;34m)\u001b[0m\u001b[0;34m\u001b[0m\u001b[0m\n",
      "\u001b[0;32m~/Library/Python/3.7/lib/python/site-packages/theano/gof/cc.py\u001b[0m in \u001b[0;36m__compile__\u001b[0;34m(self, input_storage, output_storage, storage_map, keep_lock)\u001b[0m\n\u001b[1;32m   1155\u001b[0m                                             \u001b[0moutput_storage\u001b[0m\u001b[0;34m,\u001b[0m\u001b[0;34m\u001b[0m\u001b[0m\n\u001b[1;32m   1156\u001b[0m                                             \u001b[0mstorage_map\u001b[0m\u001b[0;34m,\u001b[0m\u001b[0;34m\u001b[0m\u001b[0m\n\u001b[0;32m-> 1157\u001b[0;31m                                             keep_lock=keep_lock)\n\u001b[0m\u001b[1;32m   1158\u001b[0m         return (thunk,\n\u001b[1;32m   1159\u001b[0m                 \u001b[0mmodule\u001b[0m\u001b[0;34m,\u001b[0m\u001b[0;34m\u001b[0m\u001b[0m\n",
      "\u001b[0;32m~/Library/Python/3.7/lib/python/site-packages/theano/gof/cc.py\u001b[0m in \u001b[0;36mcthunk_factory\u001b[0;34m(self, error_storage, in_storage, out_storage, storage_map, keep_lock)\u001b[0m\n\u001b[1;32m   1622\u001b[0m                 \u001b[0mnode\u001b[0m\u001b[0;34m.\u001b[0m\u001b[0mop\u001b[0m\u001b[0;34m.\u001b[0m\u001b[0mprepare_node\u001b[0m\u001b[0;34m(\u001b[0m\u001b[0mnode\u001b[0m\u001b[0;34m,\u001b[0m \u001b[0mstorage_map\u001b[0m\u001b[0;34m,\u001b[0m \u001b[0;32mNone\u001b[0m\u001b[0;34m,\u001b[0m \u001b[0;34m'c'\u001b[0m\u001b[0;34m)\u001b[0m\u001b[0;34m\u001b[0m\u001b[0m\n\u001b[1;32m   1623\u001b[0m             module = get_module_cache().module_from_key(\n\u001b[0;32m-> 1624\u001b[0;31m                 key=key, lnk=self, keep_lock=keep_lock)\n\u001b[0m\u001b[1;32m   1625\u001b[0m \u001b[0;34m\u001b[0m\u001b[0m\n\u001b[1;32m   1626\u001b[0m         \u001b[0mvars\u001b[0m \u001b[0;34m=\u001b[0m \u001b[0mself\u001b[0m\u001b[0;34m.\u001b[0m\u001b[0minputs\u001b[0m \u001b[0;34m+\u001b[0m \u001b[0mself\u001b[0m\u001b[0;34m.\u001b[0m\u001b[0moutputs\u001b[0m \u001b[0;34m+\u001b[0m \u001b[0mself\u001b[0m\u001b[0;34m.\u001b[0m\u001b[0morphans\u001b[0m\u001b[0;34m\u001b[0m\u001b[0m\n",
      "\u001b[0;32m~/Library/Python/3.7/lib/python/site-packages/theano/gof/cmodule.py\u001b[0m in \u001b[0;36mmodule_from_key\u001b[0;34m(self, key, lnk, keep_lock)\u001b[0m\n\u001b[1;32m   1187\u001b[0m             \u001b[0;32mtry\u001b[0m\u001b[0;34m:\u001b[0m\u001b[0;34m\u001b[0m\u001b[0m\n\u001b[1;32m   1188\u001b[0m                 \u001b[0mlocation\u001b[0m \u001b[0;34m=\u001b[0m \u001b[0mdlimport_workdir\u001b[0m\u001b[0;34m(\u001b[0m\u001b[0mself\u001b[0m\u001b[0;34m.\u001b[0m\u001b[0mdirname\u001b[0m\u001b[0;34m)\u001b[0m\u001b[0;34m\u001b[0m\u001b[0m\n\u001b[0;32m-> 1189\u001b[0;31m                 \u001b[0mmodule\u001b[0m \u001b[0;34m=\u001b[0m \u001b[0mlnk\u001b[0m\u001b[0;34m.\u001b[0m\u001b[0mcompile_cmodule\u001b[0m\u001b[0;34m(\u001b[0m\u001b[0mlocation\u001b[0m\u001b[0;34m)\u001b[0m\u001b[0;34m\u001b[0m\u001b[0m\n\u001b[0m\u001b[1;32m   1190\u001b[0m                 \u001b[0mname\u001b[0m \u001b[0;34m=\u001b[0m \u001b[0mmodule\u001b[0m\u001b[0;34m.\u001b[0m\u001b[0m__file__\u001b[0m\u001b[0;34m\u001b[0m\u001b[0m\n\u001b[1;32m   1191\u001b[0m                 \u001b[0;32massert\u001b[0m \u001b[0mname\u001b[0m\u001b[0;34m.\u001b[0m\u001b[0mstartswith\u001b[0m\u001b[0;34m(\u001b[0m\u001b[0mlocation\u001b[0m\u001b[0;34m)\u001b[0m\u001b[0;34m\u001b[0m\u001b[0m\n",
      "\u001b[0;32m~/Library/Python/3.7/lib/python/site-packages/theano/gof/cc.py\u001b[0m in \u001b[0;36mcompile_cmodule\u001b[0;34m(self, location)\u001b[0m\n\u001b[1;32m   1525\u001b[0m                 \u001b[0mlib_dirs\u001b[0m\u001b[0;34m=\u001b[0m\u001b[0mself\u001b[0m\u001b[0;34m.\u001b[0m\u001b[0mlib_dirs\u001b[0m\u001b[0;34m(\u001b[0m\u001b[0;34m)\u001b[0m\u001b[0;34m,\u001b[0m\u001b[0;34m\u001b[0m\u001b[0m\n\u001b[1;32m   1526\u001b[0m                 \u001b[0mlibs\u001b[0m\u001b[0;34m=\u001b[0m\u001b[0mlibs\u001b[0m\u001b[0;34m,\u001b[0m\u001b[0;34m\u001b[0m\u001b[0m\n\u001b[0;32m-> 1527\u001b[0;31m                 preargs=preargs)\n\u001b[0m\u001b[1;32m   1528\u001b[0m         \u001b[0;32mexcept\u001b[0m \u001b[0mException\u001b[0m \u001b[0;32mas\u001b[0m \u001b[0me\u001b[0m\u001b[0;34m:\u001b[0m\u001b[0;34m\u001b[0m\u001b[0m\n\u001b[1;32m   1529\u001b[0m             \u001b[0me\u001b[0m\u001b[0;34m.\u001b[0m\u001b[0margs\u001b[0m \u001b[0;34m+=\u001b[0m \u001b[0;34m(\u001b[0m\u001b[0mstr\u001b[0m\u001b[0;34m(\u001b[0m\u001b[0mself\u001b[0m\u001b[0;34m.\u001b[0m\u001b[0mfgraph\u001b[0m\u001b[0;34m)\u001b[0m\u001b[0;34m,\u001b[0m\u001b[0;34m)\u001b[0m\u001b[0;34m\u001b[0m\u001b[0m\n",
      "\u001b[0;32m~/Library/Python/3.7/lib/python/site-packages/theano/gof/cmodule.py\u001b[0m in \u001b[0;36mcompile_str\u001b[0;34m(module_name, src_code, location, include_dirs, lib_dirs, libs, preargs, py_module, hide_symbols)\u001b[0m\n\u001b[1;32m   2394\u001b[0m             \u001b[0;31m# difficult to read.\u001b[0m\u001b[0;34m\u001b[0m\u001b[0;34m\u001b[0m\u001b[0m\n\u001b[1;32m   2395\u001b[0m             raise Exception('Compilation failed (return status=%s): %s' %\n\u001b[0;32m-> 2396\u001b[0;31m                             (status, compile_stderr.replace('\\n', '. ')))\n\u001b[0m\u001b[1;32m   2397\u001b[0m         \u001b[0;32melif\u001b[0m \u001b[0mconfig\u001b[0m\u001b[0;34m.\u001b[0m\u001b[0mcmodule\u001b[0m\u001b[0;34m.\u001b[0m\u001b[0mcompilation_warning\u001b[0m \u001b[0;32mand\u001b[0m \u001b[0mcompile_stderr\u001b[0m\u001b[0;34m:\u001b[0m\u001b[0;34m\u001b[0m\u001b[0m\n\u001b[1;32m   2398\u001b[0m             \u001b[0;31m# Print errors just below the command line.\u001b[0m\u001b[0;34m\u001b[0m\u001b[0;34m\u001b[0m\u001b[0m\n",
      "\u001b[0;31mException\u001b[0m: ('The following error happened while compiling the node', FactorOp{J=2, n_rhs=-1}(TensorConstant{(100,) of ..7811865475}, TensorConstant{[[-2.48433..3873e-03]]}, TensorConstant{[[ 0.70534..70886129]]}, TensorConstant{[[0.866884..86688422]]}), '\\n', \"Compilation failed (return status=1): In file included from /Users/tgordon/.theano/compiledir_Darwin-19.0.0-x86_64-i386-64bit-i386-3.7.0-64/tmp2ns4484r/mod.cpp:7:. /Users/tgordon/research/exoplanet/exoplanet/theano_ops/celerite/include/theano_helpers.h:1:10: fatal error: 'Eigen/Core' file not found. #include <Eigen/Core>.          ^~~~~~~~~~~~. 1 error generated.. \", '[*1 -> FactorOp{J=2, n_rhs=-1}(TensorConstant{(100,) of ..7811865475}, TensorConstant{[[-2.48433..3873e-03]]}, TensorConstant{[[ 0.70534..70886129]]}, TensorConstant{[[0.866884..86688422]]}), *1::1, *1::2, *1::3]')"
     ]
    }
   ],
   "source": [
    "d.eval()"
   ]
  },
  {
   "cell_type": "code",
   "execution_count": null,
   "metadata": {},
   "outputs": [],
   "source": []
  },
  {
   "cell_type": "code",
   "execution_count": null,
   "metadata": {},
   "outputs": [],
   "source": []
  }
 ],
 "metadata": {
  "kernelspec": {
   "display_name": "Python 3",
   "language": "python",
   "name": "python3"
  },
  "language_info": {
   "codemirror_mode": {
    "name": "ipython",
    "version": 3
   },
   "file_extension": ".py",
   "mimetype": "text/x-python",
   "name": "python",
   "nbconvert_exporter": "python",
   "pygments_lexer": "ipython3",
   "version": "3.7.0"
  }
 },
 "nbformat": 4,
 "nbformat_minor": 2
}
