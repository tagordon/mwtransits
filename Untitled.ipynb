{
 "cells": [
  {
   "cell_type": "code",
   "execution_count": 2,
   "metadata": {},
   "outputs": [],
   "source": [
    "import pymc3 as pm\n",
    "import theano.tensor as tt\n",
    "from exoplanet.gp import terms, GP\n",
    "import numpy as np\n",
    "import utils\n",
    "import exoplanet as xo\n",
    "import matplotlib.pyplot as pl"
   ]
  },
  {
   "cell_type": "code",
   "execution_count": 3,
   "metadata": {},
   "outputs": [],
   "source": [
    "t = np.linspace(-5, 5, 3000)\n",
    "tparams = [0.0, 0.1, 0.5, 0.05]  # t0, r, d, tin\n",
    "t0, r, d, tin = tparams\n",
    "\n",
    "alpha = -13 # total variance \n",
    "x = np.linspace(-3, 3, 20)\n",
    "logr = np.log(10 ** x)\n",
    "logsig = 0.5 * (alpha - np.log(1 + np.exp(2*logr)))\n",
    "logs0 = logr + logsig\n",
    "logq = np.log(1/np.sqrt(2))\n",
    "diag = np.exp(2*logsig)\n",
    "a = 2.0\n",
    "\n",
    "w0T = 1.0\n",
    "logw0 = np.log(w0T) - np.log(tparams[2])\n",
    "logs0 = 2 * logs0  - logw0"
   ]
  },
  {
   "cell_type": "code",
   "execution_count": 4,
   "metadata": {},
   "outputs": [],
   "source": [
    "transit = utils.theano_transit(t, t0, r, d, tin)\n",
    "kernel = xo.gp.terms.SHOTerm(\n",
    "        log_S0 = logs0[0],\n",
    "        log_w0 = logw0,\n",
    "        log_Q = logq\n",
    "    )\n",
    "J = 4\n",
    "q = np.array([1, a])\n",
    "Q = q[:, None]*q[None, :]\n",
    "diag = np.exp(-20)*np.ones((2, len(t)))"
   ]
  },
  {
   "cell_type": "code",
   "execution_count": 5,
   "metadata": {},
   "outputs": [],
   "source": [
    "kernel = xo.gp.terms.KroneckerTerm(kernel, Q)"
   ]
  },
  {
   "cell_type": "code",
   "execution_count": 6,
   "metadata": {},
   "outputs": [],
   "source": [
    "gp = GP(kernel, t, diag, J=J)"
   ]
  },
  {
   "cell_type": "code",
   "execution_count": null,
   "metadata": {},
   "outputs": [],
   "source": [
    "n = gp.dot_l(np.random.randn(2*len(t), 1)).eval()"
   ]
  },
  {
   "cell_type": "code",
   "execution_count": 9,
   "metadata": {},
   "outputs": [
    {
     "data": {
      "text/plain": [
       "-10.499394703163027"
      ]
     },
     "execution_count": 9,
     "metadata": {},
     "output_type": "execute_result"
    }
   ],
   "source": [
    "logsig[15]"
   ]
  },
  {
   "cell_type": "code",
   "execution_count": null,
   "metadata": {},
   "outputs": [],
   "source": []
  }
 ],
 "metadata": {
  "kernelspec": {
   "display_name": "Python 3",
   "language": "python",
   "name": "python3"
  },
  "language_info": {
   "codemirror_mode": {
    "name": "ipython",
    "version": 3
   },
   "file_extension": ".py",
   "mimetype": "text/x-python",
   "name": "python",
   "nbconvert_exporter": "python",
   "pygments_lexer": "ipython3",
   "version": "3.7.6"
  }
 },
 "nbformat": 4,
 "nbformat_minor": 2
}
